{
 "cells": [
  {
   "cell_type": "markdown",
   "metadata": {},
   "source": [
    "\n",
    "### The University of Melbourne, School of Computing and Information Systems\n",
    "# COMP30027 Machine Learning, 2020 Semester 1\n",
    "\n",
    "## Assignment 1: Naive Bayes Classifiers\n",
    "\n",
    "###### Submission deadline: 7 pm, Monday 20 Apr 2020"
   ]
  },
  {
   "cell_type": "markdown",
   "metadata": {},
   "source": [
    "**Student Name(s):**    `Alec Yu, Michael Jaworski`\n",
    "\n",
    "**Student ID(s):**     `993433, 833751`\n"
   ]
  },
  {
   "cell_type": "markdown",
   "metadata": {},
   "source": [
    "This iPython notebook is a template which you will use for your Assignment 1 submission.\n",
    "\n",
    "Marking will be applied on the four functions that are defined in this notebook, and to your responses to the questions at the end of this notebook (Submitted in a separate PDF file).\n",
    "\n",
    "**NOTE: YOU SHOULD ADD YOUR RESULTS, DIAGRAMS AND IMAGES FROM YOUR OBSERVATIONS IN THIS FILE TO YOUR REPORT (the PDF file).**\n",
    "\n",
    "You may change the prototypes of these functions, and you may write other functions, according to your requirements. We would appreciate it if the required functions were prominent/easy to find.\n",
    "\n",
    "**Adding proper comments to your code is MANDATORY. **"
   ]
  },
  {
   "cell_type": "markdown",
   "metadata": {},
   "source": [
    "### in this part we load the required libraries..."
   ]
  },
  {
   "cell_type": "code",
   "execution_count": 1,
   "metadata": {},
   "outputs": [],
   "source": [
    "import os\n",
    "import pandas as pd\n",
    "import numpy as np\n",
    "from collections import Counter\n",
    "from math import sqrt, e, pi, log\n",
    "from random import sample\n",
    "import matplotlib.pyplot as plt\n",
    "from random import shuffle, seed"
   ]
  },
  {
   "cell_type": "markdown",
   "metadata": {},
   "source": [
    "### helped functions that we use..."
   ]
  },
  {
   "cell_type": "code",
   "execution_count": 2,
   "metadata": {},
   "outputs": [],
   "source": [
    "def get_filenames(location: str):\n",
    "    \n",
    "    # returns filenames from datasets folder location, so we can see what datafiles we are working with\n",
    "    \n",
    "    files = os.listdir(location)\n",
    "    \n",
    "    return [filename.replace(\".data\", \"\") for filename in files if \".data\" in filename]\n",
    "    \n",
    "\n",
    "def read_data(filename: str):  \n",
    "    \n",
    "    # reads the filename.data data file and the filename.h header file and return a dataframe \n",
    "    \n",
    "    df = pd.read_csv(f\"datasets/{filename}.data\", header=None)\n",
    "    header = open(f\"datasets/{filename}.h\", \"r\").read().split(\",\")\n",
    "    df.columns = header\n",
    "    \n",
    "    return df\n",
    "\n",
    "def get_dtypes(filename: str):\n",
    "    \n",
    "    # gets the intended datatype of the different datafiles, as was recorded in the .names file (particularly relevant for mixed data)\n",
    "    \n",
    "    adult_dtypes = {\n",
    "        \"age\": \"numeric\",\n",
    "        \"workclass\": \"categoric\", \n",
    "        \"fnlwgt\": \"numeric\",\n",
    "        \"education\": \"categoric\",\n",
    "        \"education-num\": \"numeric\",\n",
    "        \"marital-status\": \"categoric\",\n",
    "        \"occupation\": \"categoric\",\n",
    "        \"relationship\": \"categoric\",\n",
    "        \"race\": \"categoric\",\n",
    "        \"sex\": \"categoric\",\n",
    "        \"capital-gain\": \"numeric\",\n",
    "        \"capital-loss\": \"numeric\",\n",
    "        \"hours-per-week\": \"numeric\",\n",
    "        \"native-country\": \"categoric\"    \n",
    "    }\n",
    "    \n",
    "    bank_dtypes = {\n",
    "        \"1\": \"numeric\",\n",
    "        \"2\": \"categoric\", \n",
    "        \"3\": \"categoric\",\n",
    "        \"4\": \"categoric\",\n",
    "        \"5\": \"categoric\",\n",
    "        \"6\": \"categoric\",\n",
    "        \"7\": \"categoric\",\n",
    "        \"8\": \"categoric\",\n",
    "        \"9\": \"categoric\",\n",
    "        \"10\": \"numeric\",\n",
    "        \"11\": \"categoric\",\n",
    "        \"12\": \"categoric\",\n",
    "        \"13\": \"numeric\",\n",
    "        \"14\": \"categoric\"\n",
    "    }\n",
    "    \n",
    "    university_dtypes = {\n",
    "        \"university-name\": \"categoric\",\n",
    "        \"state\": \"categoric\",\n",
    "        \"control\": \"categoric\",\n",
    "        \"number-of-students\": \"numeric\",\n",
    "        \"male:female-ratio\": \"numeric\",\n",
    "        \"student:faculty-ratio\": \"numeric\",\n",
    "        \"sat-verbal\": \"numeric\",\n",
    "        \"sat-math\": \"numeric\",\n",
    "        \"expenses\": \"categoric\",\n",
    "        \"percent-financial-aid\": \"numeric\",\n",
    "        \"number-of-applicants\": \"categoric\",\n",
    "        \"percent-admittance\": \"numeric\",\n",
    "        \"percent-enrolled\": \"numeric\",\n",
    "        \"academics\": \"numeric\",\n",
    "        \"social\": \"categoric\",\n",
    "        \"quality-of-life\": \"categoric\",\n",
    "        \"academic-emphasis\": \"categoric\"   \n",
    "    }\n",
    "    \n",
    "    dtypes = {\n",
    "        \"adult\": adult_dtypes,\n",
    "        \"bank\": bank_dtypes,\n",
    "        \"university\": university_dtypes\n",
    "    }\n",
    "    \n",
    "    try:\n",
    "        dtypes = dtypes[filename]\n",
    "    except:\n",
    "        dtypes = None\n",
    "        \n",
    "    return dtypes\n",
    "\n",
    "def replace_all(df, d):\n",
    "    \n",
    "    # replace multiple strings (i.e. '?' and 'unknown' with np.nan)\n",
    "    \n",
    "    for k, v in d.items():\n",
    "        df = df.replace(k, v)\n",
    "    \n",
    "    return df\n",
    "\n",
    "# # find nan encoding i.e. '?' or 'unknown' \n",
    "\n",
    "# # get filenames\n",
    "# filenames = get_filenames(\"datasets\")\n",
    "\n",
    "# attribute_values_list = []\n",
    "\n",
    "# for filename in filenames:\n",
    "    \n",
    "#     df = read_data(filename)\n",
    "    \n",
    "#     for column in df.columns[:-1]:\n",
    "#         attribute_values = df[column].tolist()\n",
    "#         attribute_values_list.append(attribute_values)\n",
    "        \n",
    "# # sort attribute values by frequency\n",
    "\n",
    "# attribute_values = [value for attribute_values in attribute_values_list for value in attribute_values]\n",
    "# attribute_value_counter = Counter(attribute_values)\n",
    "# attribute_value_counter = {k:v for k, v in sorted(attribute_value_counter.items(), key = lambda item: item[1], reverse = True)}\n",
    "\n",
    "# hence, 'unknown' and '?' represent missing values... replace missing values with np.nan.\n",
    "\n",
    "# k_means discretization function.\n",
    "# optimise_k and get_wss function used to determine optimal k value.\n",
    "\n",
    "def k_means(values, k, old_centroids = None):\n",
    "\n",
    "    # 1. Select k points at random to act as seed centroids\n",
    "    # 2. Assign each instance to the cluster with nearest\n",
    "    # centroid\n",
    "    # 3. Recompute centroids of the clusters using current\n",
    "    # assignment. Centroid = centre or mean point of cluster\n",
    "    # 4. Repeat step 2 until the assignment of instances to\n",
    "    # clusters is stable\n",
    "    \n",
    "    if old_centroids == None:\n",
    "        centroids = sample(list(set(values)), k)\n",
    "    else:\n",
    "        centroids = old_centroids    \n",
    "        \n",
    "    clusters = [None for val in range(len(values))]\n",
    "\n",
    "    for i in range(len(values)):\n",
    "        value = values[i]\n",
    "\n",
    "        # initialize distance to 'infinity' and cluster to 'none'\n",
    "        distance = np.inf\n",
    "        cluster = None\n",
    "\n",
    "        for j in range(len(centroids)):\n",
    "\n",
    "            centroid = centroids[j]\n",
    "\n",
    "            if abs(centroid - value) < distance:\n",
    "\n",
    "                distance = abs(centroid - value)\n",
    "\n",
    "                clusters[i] = j  \n",
    "\n",
    "    new_centroids = [[] for i in range(k)]\n",
    "\n",
    "    for i in range(len(clusters)):\n",
    "        cluster = clusters[i]\n",
    "        new_centroids[cluster].append(values[i])\n",
    "    \n",
    "    new_centroids = list(map(np.mean, new_centroids))\n",
    "\n",
    "    if set(new_centroids) == set(centroids):\n",
    "        return clusters, centroids\n",
    "    else:\n",
    "        clusters, centroids = k_means(values, k, new_centroids)\n",
    "    \n",
    "    return clusters, centroids\n",
    "\n",
    "def get_wss(values, clusters, centroids):\n",
    "    \n",
    "    # get the weighted sum of squares for k_means, used to find optimal k_value.\n",
    "    \n",
    "    se = []\n",
    "\n",
    "    for i in range(len(values)):\n",
    "        se.append((centroids[clusters[i]] - values[i]) ** 2)\n",
    "\n",
    "    wss = sum(se)\n",
    "\n",
    "    return wss\n",
    "\n",
    "def optimize_k(values, ks):\n",
    "    \n",
    "    # find optimal k_value for k_means, discretization (not used). we simply chose to use 5 bins.\n",
    "    \n",
    "    wsss = {}\n",
    "    \n",
    "    for k in ks:\n",
    "        clusters, centroids = k_means(values, k)\n",
    "        wss = get_wss(values, clusters, centroids)\n",
    "        wsss[k] = wss\n",
    "        \n",
    "    return wsss\n",
    "\n",
    "# kss = [3, 5, 10, 50, 100]\n",
    "# wsss = optimize_k(values, kss)\n",
    "# plt.plot(list(wsss.keys()), list(wsss.values()))\n",
    "# plt.title(\"elbow\")\n",
    "\n",
    "def discretise(df):\n",
    "    \n",
    "    # after preprocess function, uses the k-means function to convert numeric columns into categoric columns.\n",
    "    \n",
    "    numeric = ['int64', 'float64']\n",
    "    \n",
    "    for column in df.select_dtypes(numeric).columns:\n",
    "        bins, centroids = k_means(df[column].tolist(), 5)\n",
    "        df[column] = [centroids[bin] for bin in bins]\n",
    "        df[column] = df[column].astype(\"category\")\n",
    "        \n",
    "    return df"
   ]
  },
  {
   "cell_type": "markdown",
   "metadata": {},
   "source": [
    "## more helper functions, for the model object implementation..."
   ]
  },
  {
   "cell_type": "code",
   "execution_count": 3,
   "metadata": {},
   "outputs": [],
   "source": [
    "# for our naive bayes implementation...\n",
    "\n",
    "def get_categoric_priors(df):\n",
    "    \n",
    "    # returns dataframe of categorical attributes' prior probabilities\n",
    "    \n",
    "    priors = []\n",
    "    \n",
    "    for column in df.columns[:-1]:\n",
    "        \n",
    "        # create \"n\" column to be able to aggregate attributes\n",
    "        \n",
    "        df2 = df.copy()\n",
    "        df2[\"n\"] = 1\n",
    "        \n",
    "        # get count of classes and count of attribute given class\n",
    "        \n",
    "        attributes = df2.groupby([\"CLASS\", column]).agg({\"n\": \"count\"}).reset_index()\n",
    "        classes = attributes.groupby([\"CLASS\"])[\"n\"].sum().reset_index().rename(columns = {\"n\": \"total\"})\n",
    "        prior = pd.merge(attributes, classes, on = \"CLASS\", how = \"left\")\n",
    "        \n",
    "        # create \"attribute\" column to be able to concat prior dataframes\n",
    "        \n",
    "        prior[\"attribute\"] = column\n",
    "        prior = prior.rename(columns = {column: \"attribute_value\"})\n",
    "        \n",
    "        # get P(attribute|class)\n",
    "        \n",
    "        prior[\"p\"] = prior.n / prior.total\n",
    "        prior = prior[[\"CLASS\", \"attribute\", \"attribute_value\", \"n\", \"total\", \"p\"]]\n",
    "        \n",
    "        priors.append(prior)\n",
    "        \n",
    "    priors = pd.concat(priors)\n",
    "        \n",
    "    return priors\n",
    "\n",
    "# for gnb\n",
    "\n",
    "def get_numeric_statistics(df):\n",
    "    \n",
    "    # returns dataframe of numerical attributes' mean and standard deviation\n",
    "    \n",
    "    numerical_statistics = df.agg([\"mean\", \"std\"]).transpose().reset_index().rename(columns = {\"index\": \"attribute\"})\n",
    "    \n",
    "    return numerical_statistics\n",
    "\n",
    "def gaussian_pdf(x, mean, std):\n",
    "    \n",
    "    # gaussian function used to determine P(X = x|C) \n",
    "    \n",
    "    return (1/(std * sqrt(2 * pi))) * e ** (-1/2 * ((x - mean)/std) ** 2)\n",
    "\n",
    "\n",
    "# class priors\n",
    "\n",
    "def get_class_priors(df):\n",
    "    \n",
    "    # returns the probability of each class occuring\n",
    "    \n",
    "    prior = df.groupby([\"CLASS\"]).size().reset_index().rename(columns = {0: \"n\"})\n",
    "    prior[\"total\"] = sum(prior[\"n\"])\n",
    "    \n",
    "    # get P(class)\n",
    "    \n",
    "    prior[\"p\"] = prior.n / prior.total\n",
    "    \n",
    "    return prior"
   ]
  },
  {
   "cell_type": "markdown",
   "metadata": {},
   "source": [
    "## cross validation implementation..."
   ]
  },
  {
   "cell_type": "code",
   "execution_count": 4,
   "metadata": {},
   "outputs": [],
   "source": [
    "def get_folds(df, size): \n",
    "    \n",
    "    # gets the indexes of the datatframe, shuffles them around, and splits them into k lists\n",
    "    \n",
    "    seed(2020)\n",
    "    seq = list(range(df.shape[0]))\n",
    "    shuffle(seq)\n",
    "    folds = [seq[i::size] for i in range(size)]\n",
    "    \n",
    "    return folds\n",
    "\n",
    "def cross_validation(df, k):\n",
    "    \n",
    "    # splits the dataframe into k folds, trains data on k-1 folds and then tests on the remaining fold.\n",
    "    # performs this k times and returns the average of metric scores.\n",
    "    \n",
    "    # split into k-folds\n",
    "    folds = get_folds(df, k)\n",
    "\n",
    "    metrics_list = []\n",
    "    \n",
    "    # for each fold take it as a test set, merge the other folds and use them as a training_set\n",
    "    for i in range(len(folds)):\n",
    "        \n",
    "        folds2 = folds.copy()\n",
    "\n",
    "        test_index = folds2.pop(i)\n",
    "        train_index = [index for fold in folds2 for index in fold]\n",
    "\n",
    "        test_df = df.iloc[test_index]\n",
    "        train_df = df.iloc[train_index]\n",
    "\n",
    "        model = train(train_df)\n",
    "\n",
    "        predictions = predict(test_df, model)\n",
    "        labels = test_df['CLASS'].tolist()\n",
    "        \n",
    "        metrics = evaluate(labels, predictions)\n",
    "        \n",
    "        print(f\"cross validation fold {i} accuracy: {metrics}\")\n",
    "\n",
    "        metrics_list.append(metrics)\n",
    "    \n",
    "    metrics = np.mean(metrics_list)\n",
    "    \n",
    "    return metrics"
   ]
  },
  {
   "cell_type": "markdown",
   "metadata": {},
   "source": [
    "## preprocess"
   ]
  },
  {
   "cell_type": "code",
   "execution_count": 5,
   "metadata": {},
   "outputs": [],
   "source": [
    "# This function should prepare the data by reading it from a file and converting it into a useful format for training and testing\n",
    "\n",
    "def preprocess(df, filename):\n",
    "    \n",
    "    # replace missing values with np.nan\n",
    "    \n",
    "    replacements = {\"unknown\": np.nan, \"?\": np.nan}  \n",
    "    df = replace_all(df, replacements)\n",
    "    \n",
    "    # the mushroom datafile and bank datafile contain a column that has a very high amount of na values, thus drop columns, otherwise drop instances\n",
    "    if filename == \"mushroom\" or filename == \"bank\":\n",
    "        # drop 'na' columns\n",
    "        df = df.dropna(axis = \"columns\")\n",
    "    else:\n",
    "        df = df.dropna(axis = \"index\")\n",
    "    \n",
    "    # rearrange class to [-1] position\n",
    "    CLASS = df.pop(\"CLASS\").astype(\"category\")\n",
    "    df[\"CLASS\"] = CLASS\n",
    "    \n",
    "    # correct dtypes\n",
    "    \n",
    "    # convert the data that we read in with read_data() into their intended datatypes.\n",
    "    \n",
    "    nominal_files = [\"breast-cancer-wisconsin\", \"mushroom\", \"lymphography\"]\n",
    "    numeric_files = [\"wdbc\", \"wine\"]\n",
    "    ordinal_files = [\"car\", \"nursery\", \"somerville\"]\n",
    "    mixed_files = [\"adult\", \"bank\", \"university\"]\n",
    "    \n",
    "    if (filename in nominal_files):\n",
    "        datatype = \"nominal\"\n",
    "        for column in df.columns[:-1]:\n",
    "            df[column] = df[column].astype(\"category\")\n",
    "            \n",
    "    elif (filename in ordinal_files):\n",
    "        datatype = \"ordinal\"\n",
    "        for column in df.columns[:-1]:\n",
    "            df[column] = df[column].astype(\"category\")\n",
    "        \n",
    "    elif (filename in numeric_files):\n",
    "        datatype = \"numeric\"\n",
    "        for column in df.columns[:-1]:\n",
    "            df[column] = pd.to_numeric(df[column])\n",
    "        \n",
    "    elif (filename in mixed_files):\n",
    "        datatype = \"mixed\"\n",
    "        dtypes = get_dtypes(filename)\n",
    "        for column in df.columns[:-1]:\n",
    "            try:\n",
    "                dtype = dtypes[column]\n",
    "                if dtype == \"categoric\":\n",
    "                    df[column] = df[column].astype(\"category\")\n",
    "                if dtype == \"numeric\":\n",
    "                    df[column] = pd.to_numeric(df[column])\n",
    "            except:\n",
    "                pass\n",
    "            \n",
    "    return df"
   ]
  },
  {
   "cell_type": "markdown",
   "metadata": {},
   "source": [
    "## train"
   ]
  },
  {
   "cell_type": "code",
   "execution_count": 6,
   "metadata": {},
   "outputs": [],
   "source": [
    "# This function should calculat prior probabilities and likelihoods from the training data and using\n",
    "# them to build a naive Bayes model.\n",
    "# returns a model object with the prior probabilities and likelihoods, which can be\n",
    "# accessed with model.prior_probabilities, model.numeric_statistics\n",
    "# also contains a predict method to make runtime predictions...\n",
    "# simple epsilon smoothing is used and log(probabilities) are added together to prevent underflow...\n",
    "\n",
    "def train(df):\n",
    "\n",
    "    # for every column in the dataframe.\n",
    "    # if the column is numeric get the mean and std if the column is categoric get the attribute prior\n",
    "    #\n",
    "    \n",
    "    class train_model:\n",
    "        def __init__(self, class_priors, categoric_priors, numeric_statistics):\n",
    "            \n",
    "            self.class_priors = class_priors\n",
    "            self.categoric_priors = categoric_priors\n",
    "            self.numeric_statistics = numeric_statistics\n",
    "\n",
    "        def gaussian_pdf(self, x, mean, std):\n",
    "            # gaussian function used to determine P(X = x|C) \n",
    "            return (1/(std * sqrt(2 * pi))) * e ** (-1/2 * ((x - mean)/std) ** 2)\n",
    "\n",
    "        def predict(self, df):\n",
    "            \n",
    "            # epsilon smoothing value\n",
    "            epsilon = 1/(df.size + 1)\n",
    "            \n",
    "            predictions = []\n",
    "            \n",
    "            dtypes = df.dtypes.apply(lambda x: x.name).to_dict()\n",
    "            \n",
    "            CLASSES = model.class_priors.CLASS.tolist()\n",
    "            \n",
    "            class_ps = {}\n",
    "            \n",
    "            for row_number, row in df.iterrows():\n",
    "\n",
    "                for CLASS in CLASSES:\n",
    "\n",
    "                    attribute_ps = {}\n",
    "\n",
    "                    for index in row.index[:-1]:\n",
    "\n",
    "                        attribute = index \n",
    "                        attribute_value = row[index]\n",
    "\n",
    "                        if dtypes[attribute] in categoric:\n",
    "\n",
    "                            attribute_p = model.categoric_priors.loc[\n",
    "                                (model.categoric_priors[\"CLASS\"] == CLASS) & \\\n",
    "                                (model.categoric_priors[\"attribute\"] == attribute) & \\\n",
    "                                (model.categoric_priors[\"attribute_value\"] == attribute_value)\n",
    "                            ].p.values[0]\n",
    "                            \n",
    "                            # simple epsilon smoothing\n",
    "                            if (attribute_p == 0):\n",
    "                                attribute_p = epsilon\n",
    "                            \n",
    "                            attribute_ps[attribute] = attribute_p\n",
    "\n",
    "                        elif dtypes[attribute] in numeric:\n",
    "\n",
    "                            mean = model.numeric_statistics.loc[\n",
    "                                model.numeric_statistics.attribute == attribute\n",
    "                            ][\"mean\"].values[0]\n",
    "                            \n",
    "                            std = model.numeric_statistics.loc[\n",
    "                                model.numeric_statistics.attribute == attribute\n",
    "                            ][\"std\"].values[0]\n",
    "\n",
    "                            attribute_p = model.gaussian_pdf(attribute_value, mean, std)\n",
    "                            \n",
    "                            # simple epsilon smoothing\n",
    "                            if (attribute_p == 0):\n",
    "                                attribute_p = epsilon\n",
    "                            \n",
    "                            attribute_ps[attribute] = attribute_p\n",
    "                            \n",
    "                        else:\n",
    "                            attribute_ps[attribute] = epsilon\n",
    "\n",
    "                    class_p = model.class_priors.loc[\n",
    "                        model.class_priors[\"CLASS\"] == CLASS\n",
    "                    ].p.values[0]\n",
    "                    \n",
    "                    class_p = log(class_p)\n",
    "                    \n",
    "                    # for value in attribute_ps.values():\n",
    "                    #     class_p *= value\n",
    "                        \n",
    "                    # logarithmic smoothing\n",
    "        \n",
    "                    for value in attribute_ps.values():\n",
    "                        class_p += log(value)\n",
    "\n",
    "                    class_ps[CLASS] = class_p\n",
    "\n",
    "                prediction = list({k: v for k, v in sorted(class_ps.items(), key=lambda item: item[1], reverse=True)}.keys())[0]\n",
    "\n",
    "                predictions.append(prediction)\n",
    "                                   \n",
    "            return predictions\n",
    "    \n",
    "    ###\n",
    "    \n",
    "    numeric = ['int64', 'float64']\n",
    "    categoric = ['category']\n",
    "    \n",
    "    class_priors = get_class_priors(df)\n",
    "\n",
    "    if len(df.select_dtypes(numeric).columns) > 1:\n",
    "        numeric_statistics = get_numeric_statistics(df.select_dtypes(numeric))\n",
    "    else:\n",
    "        numeric_statistics = None\n",
    "        \n",
    "    if len(df.select_dtypes(categoric).columns) > 1:\n",
    "        categoric_priors = get_categoric_priors(df.select_dtypes(categoric))\n",
    "    else:\n",
    "        categoric_priors = None\n",
    "    \n",
    "    model = train_model(class_priors, categoric_priors, numeric_statistics)\n",
    "        \n",
    "    return model"
   ]
  },
  {
   "cell_type": "markdown",
   "metadata": {},
   "source": [
    "## predict"
   ]
  },
  {
   "cell_type": "code",
   "execution_count": 7,
   "metadata": {},
   "outputs": [],
   "source": [
    "# calls the predict() method within model to create a list of probabilities...\n",
    "\n",
    "def predict(df, model):\n",
    "    \n",
    "    predictions = model.predict(df)\n",
    "    \n",
    "    return predictions"
   ]
  },
  {
   "cell_type": "code",
   "execution_count": 16,
   "metadata": {},
   "outputs": [],
   "source": [
    "# input is the true labels and predictions of the data.\n",
    "# Uses Crude total accuracy, confusion matrix of truth vs classified %'s as evaluation metrics\n",
    "# Calculates the prediction accuracy and outputs a confusion matrix of truths vs predictions.\n",
    "# returns an accuracy metric which is used to compare different machine learning methods...\n",
    "\n",
    "def evaluate(truthlist, predictions):\n",
    "    # First calculate a crude accuracy score\n",
    "    correct = 0;\n",
    "    wrong = 0;\n",
    "    for i in range(0,len(truthlist)):\n",
    "        if(truthlist[i] == predictions[i]):\n",
    "            correct += 1\n",
    "        else:\n",
    "            wrong += 1;\n",
    "    \n",
    "    accuracy = correct/(correct + wrong)\n",
    "            \n",
    "    print(\"The accuracy of the predictions is: {:.5f}\\n\".format(accuracy))\n",
    "        \n",
    "    # Now construct a confusion matrix of each attribute\n",
    "    truthSeries = pd.Series(truthlist, name = \"Truths\")\n",
    "    predictionSeries = pd.Series(predictions, name = \"Predictions\")\n",
    "    confusionDf = pd.crosstab(truthSeries, predictionSeries, rownames=[\"Truths\"], colnames=[\"Predicted\"], margins = True)\n",
    "    print(\"Confusion Matrix of Truths vs Predicted frequencies\\n\")\n",
    "    print(confusionDf)\n",
    "    print(\"\\n\\n\")\n",
    "    \n",
    "    # Calculate the weighted average of Precision, Recall (Sensitivity), Specificity\n",
    "    # Get the same confusion matrix but without the margins\n",
    "    confusionDf = pd.crosstab(truthSeries, predictionSeries, rownames=[\"Truths\"], colnames=[\"Predicted\"], margins = False)\n",
    "    \n",
    "    weightedP = 0\n",
    "    weightedR = 0\n",
    "    weightedS = 0\n",
    "\n",
    "    # Calculate the metrics for each row and use a weighted average\n",
    "    # Precision averaged across all classes c\n",
    "    for element in confusionDf.iterrows():\n",
    "        # Try and except assumes that set(truths) != set(predictions)\n",
    "        try:\n",
    "            TP = confusionDf[element[0]][element[0]]\n",
    "        except:\n",
    "            TP = 0\n",
    "\n",
    "        FN = sum(confusionDf.loc[element[0], :].values) - TP\n",
    "\n",
    "        try:\n",
    "            FP = sum(confusionDf[element[0]].values) - TP\n",
    "        except:\n",
    "            FP = 0\n",
    "            \n",
    "        TN = confusionDf.values.sum() - TP - FN - FP\n",
    "        \n",
    "        # Weight each metric according to classinstances/totalinstances\n",
    "        weight = sum(element[1].values) / confusionDf.values.sum()\n",
    "        sensitivity = TP / (TP + FN)\n",
    "        recall = TN / (TN + FP)\n",
    "        \n",
    "        try:\n",
    "            precision = TP / (TP + FP)\n",
    "        except:\n",
    "            precision = 0\n",
    "        \n",
    "        weightedP += weight * precision\n",
    "        weightedS += weight * sensitivity \n",
    "        weightedR += weight * recall\n",
    "        \n",
    "    print(\"Weighted Precision:\" , weightedP)\n",
    "    print(\"Weighted Recall:\", weightedR)\n",
    "    print(\"Weighted F1 score using weighted P, R:\", 2*weightedP*weightedR/(weightedP+weightedR))\n",
    "    \n",
    "    # Now normalise the confusion matrix so its a percentage of classification performance\n",
    "    confusionDf = pd.crosstab(truthSeries, predictionSeries, rownames=[\"Truths\"], colnames=[\"Predicted\"], margins=False)\n",
    "    confusionDfNormalised = confusionDf / confusionDf.sum(axis=1)\n",
    "    \n",
    "    # Now print out the color map of the classification performaces\n",
    "    plot_color_map(confusionDfNormalised)\n",
    "    \n",
    "    return accuracy\n",
    "\n",
    "# Plots the confusion matrix\n",
    "def plot_color_map(confusionDf):\n",
    "    title = \"Confusion Matrix\"\n",
    "    cmap = plt.cm.gray_r\n",
    "    plt.figure(figsize=(10,8))\n",
    "    plt.matshow(confusionDf, cmap = cmap, fignum=1)\n",
    "    \n",
    "    # Set the scale (0,1) and fontsize for the color bar\n",
    "    plt.clim(0, 1)\n",
    "    cbar = plt.colorbar()\n",
    "    cbar.set_label(label=\"Classification Performance\", weight=\"bold\", fontsize=20)\n",
    "    cbar.ax.tick_params(labelsize=15)\n",
    "    \n",
    "    # Axis information\n",
    "    tick_marks = np.arange(len(confusionDf.columns))\n",
    "    plt.xticks(tick_marks, confusionDf.columns, rotation = 45, fontsize=15)\n",
    "    plt.yticks(tick_marks, confusionDf.index, rotation = -45, fontsize=15)\n",
    "    plt.ylabel(confusionDf.index.name, fontsize=22)\n",
    "    plt.xlabel(confusionDf.columns.name, labelpad = 18, fontsize=22)\n",
    "    \n",
    "    return\n",
    "\n",
    "# Finds the most common class label and returns it. Use this to predict all instances as a baseline\n",
    "def zeroR(df):\n",
    "    classLabel = df['CLASS'].value_counts().idxmax();\n",
    "    return classLabel"
   ]
  },
  {
   "cell_type": "code",
   "execution_count": null,
   "metadata": {},
   "outputs": [],
   "source": []
  },
  {
   "cell_type": "code",
   "execution_count": null,
   "metadata": {},
   "outputs": [],
   "source": []
  },
  {
   "cell_type": "code",
   "execution_count": null,
   "metadata": {},
   "outputs": [],
   "source": []
  },
  {
   "cell_type": "markdown",
   "metadata": {},
   "source": [
    "## model basic workflow..."
   ]
  },
  {
   "cell_type": "markdown",
   "metadata": {},
   "source": [
    "### 1. pick a file and store it as filename.\n",
    "### 2. call read_data(filename) on the filename, which merges the \".h\" files with the \".data\". The \".h\" files include the attribute column names.\n",
    "### 3. preprocess the data by calling preprocess(df, filename). This ensures data columns have the datatype they were intended to have (particularly relevant for mixed datatypes).\n",
    "### 4. train the model by calling train(df). this returns a model object which stores the class priors, the categoric priors of the data if it is categoric and numeric statistics (mean, std) if it is numeric.\n",
    "### 5. pass the df and model object into predict(df, model). This calls the model.predict() method which contains the logic for creating predictions. We have used epsilon smoothing to smooth probabilities of 0."
   ]
  },
  {
   "cell_type": "code",
   "execution_count": 17,
   "metadata": {},
   "outputs": [
    {
     "data": {
      "text/plain": [
       "['adult',\n",
       " 'bank',\n",
       " 'breast-cancer-wisconsin',\n",
       " 'car',\n",
       " 'lymphography',\n",
       " 'mushroom',\n",
       " 'nursery',\n",
       " 'somerville',\n",
       " 'trainingtest',\n",
       " 'university',\n",
       " 'wdbc',\n",
       " 'wine']"
      ]
     },
     "execution_count": 17,
     "metadata": {},
     "output_type": "execute_result"
    }
   ],
   "source": [
    "get_filenames(\"datasets\")"
   ]
  },
  {
   "cell_type": "code",
   "execution_count": 18,
   "metadata": {},
   "outputs": [
    {
     "name": "stdout",
     "output_type": "stream",
     "text": [
      "university\n",
      "The accuracy of the predictions is: 1.00000\n",
      "\n",
      "Confusion Matrix of Truths vs Predicted frequencies\n",
      "\n",
      "Predicted  1   2   3   4   5  All\n",
      "Truths                           \n",
      "1          6   0   0   0   0    6\n",
      "2          0  27   0   0   0   27\n",
      "3          0   0  84   0   0   84\n",
      "4          0   0   0  82   0   82\n",
      "5          0   0   0   0  32   32\n",
      "All        6  27  84  82  32  231\n",
      "\n",
      "\n",
      "\n",
      "Weighted Precision: 1.0\n",
      "Weighted Recall: 1.0\n",
      "Weighted F1 score using weighted P, R: 1.0\n"
     ]
    },
    {
     "data": {
      "image/png": "[encoded data removed]",
      "text/plain": [
       "<Figure size 720x576 with 2 Axes>"
      ]
     },
     "metadata": {
      "needs_background": "light"
     },
     "output_type": "display_data"
    }
   ],
   "source": [
    "# pick a file \n",
    "filename = \"university\"\n",
    "\n",
    "print(filename)\n",
    "    \n",
    "# read in data\n",
    "df = read_data(filename)\n",
    "\n",
    "# preprocess data\n",
    "df = preprocess(df, filename)\n",
    "\n",
    "# train model\n",
    "model = train(df)\n",
    "\n",
    "predictions = predict(df, model)\n",
    "\n",
    "labels = df.CLASS.tolist()\n",
    "\n",
    "metrics = evaluate(labels, predictions)"
   ]
  },
  {
   "cell_type": "code",
   "execution_count": 19,
   "metadata": {},
   "outputs": [
    {
     "data": {
      "text/plain": [
       "1.0"
      ]
     },
     "execution_count": 19,
     "metadata": {},
     "output_type": "execute_result"
    }
   ],
   "source": [
    "metrics"
   ]
  },
  {
   "cell_type": "markdown",
   "metadata": {},
   "source": [
    "### alternatively, can simply call the cross_validation(df, k) function which splits the data up into training and test sets and then calls the training, testing and evaluation. averaging out the results to get a more robust evaluation metric."
   ]
  },
  {
   "cell_type": "code",
   "execution_count": 20,
   "metadata": {},
   "outputs": [
    {
     "name": "stdout",
     "output_type": "stream",
     "text": [
      "The accuracy of the predictions is: 0.51064\n",
      "\n",
      "Confusion Matrix of Truths vs Predicted frequencies\n",
      "\n",
      "Predicted  2   3   4  5  All\n",
      "Truths                      \n",
      "1          2   1   0  0    3\n",
      "2          2   1   1  0    4\n",
      "3          0   8   9  2   19\n",
      "4          0   2  11  3   16\n",
      "5          0   1   1  3    5\n",
      "All        4  13  22  8   47\n",
      "\n",
      "\n",
      "\n",
      "Weighted Precision: 0.5014320785597381\n",
      "Weighted Recall: 0.7903923169242159\n",
      "Weighted F1 score using weighted P, R: 0.61359433021774\n",
      "cross validation fold 0 accuracy: 0.5106382978723404\n",
      "The accuracy of the predictions is: 0.43478\n",
      "\n",
      "Confusion Matrix of Truths vs Predicted frequencies\n",
      "\n",
      "Predicted  1  2   3   4  5  All\n",
      "Truths                         \n",
      "1          0  0   0   1  1    2\n",
      "2          0  1   1   3  0    5\n",
      "3          1  2   9   2  3   17\n",
      "4          0  0   6   6  1   13\n",
      "5          0  0   0   5  4    9\n",
      "All        1  3  16  17  9   46\n",
      "\n",
      "\n",
      "\n",
      "Weighted Precision: 0.43081308610400676\n",
      "Weighted Recall: 0.7838618519589009\n",
      "Weighted F1 score using weighted P, R: 0.5560301492021513\n",
      "cross validation fold 1 accuracy: 0.43478260869565216\n"
     ]
    },
    {
     "name": "stderr",
     "output_type": "stream",
     "text": [
      "C:\\ProgramData\\Anaconda3\\lib\\site-packages\\ipykernel_launcher.py:86: MatplotlibDeprecationWarning: Adding an axes using the same arguments as a previous axes currently reuses the earlier instance.  In a future version, a new instance will always be created and returned.  Meanwhile, this warning can be suppressed, and the future behavior ensured, by passing a unique label to each axes instance.\n"
     ]
    },
    {
     "name": "stdout",
     "output_type": "stream",
     "text": [
      "The accuracy of the predictions is: 0.50000\n",
      "\n",
      "Confusion Matrix of Truths vs Predicted frequencies\n",
      "\n",
      "Predicted  2   3   4  5  All\n",
      "Truths                      \n",
      "2          2   4   1  0    7\n",
      "3          1  10   4  1   16\n",
      "4          2   3   9  3   17\n",
      "5          0   1   3  2    6\n",
      "All        5  18  17  6   46\n",
      "\n",
      "\n",
      "\n",
      "Weighted Precision: 0.4932367149758454\n",
      "Weighted Recall: 0.7805481874447391\n",
      "Weighted F1 score using weighted P, R: 0.6044898524452349\n",
      "cross validation fold 2 accuracy: 0.5\n"
     ]
    },
    {
     "name": "stderr",
     "output_type": "stream",
     "text": [
      "C:\\ProgramData\\Anaconda3\\lib\\site-packages\\ipykernel_launcher.py:86: MatplotlibDeprecationWarning: Adding an axes using the same arguments as a previous axes currently reuses the earlier instance.  In a future version, a new instance will always be created and returned.  Meanwhile, this warning can be suppressed, and the future behavior ensured, by passing a unique label to each axes instance.\n"
     ]
    },
    {
     "name": "stdout",
     "output_type": "stream",
     "text": [
      "The accuracy of the predictions is: 0.41304\n",
      "\n",
      "Confusion Matrix of Truths vs Predicted frequencies\n",
      "\n",
      "Predicted  2   3   4  5  All\n",
      "Truths                      \n",
      "2          1   8   0  0    9\n",
      "3          0   8   6  2   16\n",
      "4          0   7   7  2   16\n",
      "5          0   0   2  3    5\n",
      "All        1  23  15  7   46\n",
      "\n",
      "\n",
      "\n",
      "Weighted Precision: 0.5255378521919165\n",
      "Weighted Recall: 0.7227288794627077\n",
      "Weighted F1 score using weighted P, R: 0.6085580483690926\n",
      "cross validation fold 3 accuracy: 0.41304347826086957\n"
     ]
    },
    {
     "name": "stderr",
     "output_type": "stream",
     "text": [
      "C:\\ProgramData\\Anaconda3\\lib\\site-packages\\ipykernel_launcher.py:86: MatplotlibDeprecationWarning: Adding an axes using the same arguments as a previous axes currently reuses the earlier instance.  In a future version, a new instance will always be created and returned.  Meanwhile, this warning can be suppressed, and the future behavior ensured, by passing a unique label to each axes instance.\n"
     ]
    },
    {
     "name": "stdout",
     "output_type": "stream",
     "text": [
      "The accuracy of the predictions is: 0.36957\n",
      "\n",
      "Confusion Matrix of Truths vs Predicted frequencies\n",
      "\n",
      "Predicted  1  2   3   4  5  All\n",
      "Truths                         \n",
      "1          0  0   1   0  0    1\n",
      "2          0  0   2   0  0    2\n",
      "3          0  1   6   9  0   16\n",
      "4          1  2   6   9  2   20\n",
      "5          0  0   2   3  2    7\n",
      "All        1  3  17  21  4   46\n",
      "\n",
      "\n",
      "\n",
      "Weighted Precision: 0.38518450858604314\n",
      "Weighted Recall: 0.6605435627174758\n",
      "Weighted F1 score using weighted P, R: 0.48661053401359305\n",
      "cross validation fold 4 accuracy: 0.3695652173913043\n"
     ]
    },
    {
     "name": "stderr",
     "output_type": "stream",
     "text": [
      "C:\\ProgramData\\Anaconda3\\lib\\site-packages\\ipykernel_launcher.py:86: MatplotlibDeprecationWarning: Adding an axes using the same arguments as a previous axes currently reuses the earlier instance.  In a future version, a new instance will always be created and returned.  Meanwhile, this warning can be suppressed, and the future behavior ensured, by passing a unique label to each axes instance.\n"
     ]
    },
    {
     "data": {
      "image/png": "[encoded data removed]",
      "text/plain": [
       "<Figure size 720x576 with 6 Axes>"
      ]
     },
     "metadata": {
      "needs_background": "light"
     },
     "output_type": "display_data"
    },
    {
     "data": {
      "text/plain": [
       "<Figure size 720x576 with 0 Axes>"
      ]
     },
     "metadata": {},
     "output_type": "display_data"
    },
    {
     "data": {
      "text/plain": [
       "<Figure size 720x576 with 0 Axes>"
      ]
     },
     "metadata": {},
     "output_type": "display_data"
    },
    {
     "data": {
      "text/plain": [
       "<Figure size 720x576 with 0 Axes>"
      ]
     },
     "metadata": {},
     "output_type": "display_data"
    },
    {
     "data": {
      "text/plain": [
       "<Figure size 720x576 with 0 Axes>"
      ]
     },
     "metadata": {},
     "output_type": "display_data"
    }
   ],
   "source": [
    "metrics = cross_validation(df, 5)"
   ]
  },
  {
   "cell_type": "code",
   "execution_count": 21,
   "metadata": {},
   "outputs": [
    {
     "data": {
      "text/plain": [
       "0.4456059204440333"
      ]
     },
     "execution_count": 21,
     "metadata": {},
     "output_type": "execute_result"
    }
   ],
   "source": [
    "metrics"
   ]
  },
  {
   "cell_type": "markdown",
   "metadata": {},
   "source": [
    "### this is an implementation of how we answered question 6 by comparing the performance of naive bayes v gaussian naive bayes on the strictly numeric datasets"
   ]
  },
  {
   "cell_type": "code",
   "execution_count": 22,
   "metadata": {},
   "outputs": [
    {
     "name": "stdout",
     "output_type": "stream",
     "text": [
      "wdbc\n",
      "The accuracy of the predictions is: 0.64912\n",
      "\n",
      "Confusion Matrix of Truths vs Predicted frequencies\n",
      "\n",
      "Predicted    B  All\n",
      "Truths             \n",
      "B           74   74\n",
      "M           40   40\n",
      "All        114  114\n",
      "\n",
      "\n",
      "\n",
      "Weighted Precision: 0.4213604185903355\n",
      "Weighted Recall: 0.3508771929824561\n",
      "Weighted F1 score using weighted P, R: 0.3829022536412774\n",
      "cross validation fold 0 accuracy: 0.6491228070175439\n",
      "The accuracy of the predictions is: 0.59649\n",
      "\n",
      "Confusion Matrix of Truths vs Predicted frequencies\n",
      "\n",
      "Predicted    B  All\n",
      "Truths             \n",
      "B           68   68\n",
      "M           46   46\n",
      "All        114  114\n",
      "\n",
      "\n",
      "\n",
      "Weighted Precision: 0.355801785164666\n",
      "Weighted Recall: 0.40350877192982454\n",
      "Weighted F1 score using weighted P, R: 0.37815657912515377\n",
      "cross validation fold 1 accuracy: 0.5964912280701754\n"
     ]
    },
    {
     "name": "stderr",
     "output_type": "stream",
     "text": [
      "C:\\ProgramData\\Anaconda3\\lib\\site-packages\\ipykernel_launcher.py:86: MatplotlibDeprecationWarning: Adding an axes using the same arguments as a previous axes currently reuses the earlier instance.  In a future version, a new instance will always be created and returned.  Meanwhile, this warning can be suppressed, and the future behavior ensured, by passing a unique label to each axes instance.\n"
     ]
    },
    {
     "name": "stdout",
     "output_type": "stream",
     "text": [
      "The accuracy of the predictions is: 0.52632\n",
      "\n",
      "Confusion Matrix of Truths vs Predicted frequencies\n",
      "\n",
      "Predicted    B  All\n",
      "Truths             \n",
      "B           60   60\n",
      "M           54   54\n",
      "All        114  114\n",
      "\n",
      "\n",
      "\n",
      "Weighted Precision: 0.27700831024930744\n",
      "Weighted Recall: 0.47368421052631576\n",
      "Weighted F1 score using weighted P, R: 0.3495824431928529\n",
      "cross validation fold 2 accuracy: 0.5263157894736842\n"
     ]
    },
    {
     "name": "stderr",
     "output_type": "stream",
     "text": [
      "C:\\ProgramData\\Anaconda3\\lib\\site-packages\\ipykernel_launcher.py:86: MatplotlibDeprecationWarning: Adding an axes using the same arguments as a previous axes currently reuses the earlier instance.  In a future version, a new instance will always be created and returned.  Meanwhile, this warning can be suppressed, and the future behavior ensured, by passing a unique label to each axes instance.\n"
     ]
    },
    {
     "name": "stdout",
     "output_type": "stream",
     "text": [
      "The accuracy of the predictions is: 0.69912\n",
      "\n",
      "Confusion Matrix of Truths vs Predicted frequencies\n",
      "\n",
      "Predicted    B  All\n",
      "Truths             \n",
      "B           79   79\n",
      "M           34   34\n",
      "All        113  113\n",
      "\n",
      "\n",
      "\n",
      "Weighted Precision: 0.488761845093586\n",
      "Weighted Recall: 0.3008849557522124\n",
      "Weighted F1 score using weighted P, R: 0.3724730752453749\n",
      "cross validation fold 3 accuracy: 0.6991150442477876\n"
     ]
    },
    {
     "name": "stderr",
     "output_type": "stream",
     "text": [
      "C:\\ProgramData\\Anaconda3\\lib\\site-packages\\ipykernel_launcher.py:86: MatplotlibDeprecationWarning: Adding an axes using the same arguments as a previous axes currently reuses the earlier instance.  In a future version, a new instance will always be created and returned.  Meanwhile, this warning can be suppressed, and the future behavior ensured, by passing a unique label to each axes instance.\n"
     ]
    },
    {
     "name": "stdout",
     "output_type": "stream",
     "text": [
      "The accuracy of the predictions is: 0.67257\n",
      "\n",
      "Confusion Matrix of Truths vs Predicted frequencies\n",
      "\n",
      "Predicted    B  All\n",
      "Truths             \n",
      "B           76   76\n",
      "M           37   37\n",
      "All        113  113\n",
      "\n",
      "\n",
      "\n",
      "Weighted Precision: 0.4523455243167046\n",
      "Weighted Recall: 0.3274336283185841\n",
      "Weighted F1 score using weighted P, R: 0.3798848322121406\n",
      "cross validation fold 4 accuracy: 0.672566371681416\n"
     ]
    },
    {
     "name": "stderr",
     "output_type": "stream",
     "text": [
      "C:\\ProgramData\\Anaconda3\\lib\\site-packages\\ipykernel_launcher.py:86: MatplotlibDeprecationWarning: Adding an axes using the same arguments as a previous axes currently reuses the earlier instance.  In a future version, a new instance will always be created and returned.  Meanwhile, this warning can be suppressed, and the future behavior ensured, by passing a unique label to each axes instance.\n"
     ]
    },
    {
     "name": "stdout",
     "output_type": "stream",
     "text": [
      "The accuracy of the predictions is: 0.92982\n",
      "\n",
      "Confusion Matrix of Truths vs Predicted frequencies\n",
      "\n",
      "Predicted   B   M  All\n",
      "Truths                \n",
      "B          69   5   74\n",
      "M           3  37   40\n",
      "All        72  42  114\n",
      "\n",
      "\n",
      "\n",
      "Weighted Precision: 0.9311821219715957\n",
      "Weighted Recall: 0.9276078710289237\n",
      "Weighted F1 score using weighted P, R: 0.9293915600523959\n",
      "cross validation fold 0 accuracy: 0.9298245614035088\n"
     ]
    },
    {
     "name": "stderr",
     "output_type": "stream",
     "text": [
      "C:\\ProgramData\\Anaconda3\\lib\\site-packages\\ipykernel_launcher.py:86: MatplotlibDeprecationWarning: Adding an axes using the same arguments as a previous axes currently reuses the earlier instance.  In a future version, a new instance will always be created and returned.  Meanwhile, this warning can be suppressed, and the future behavior ensured, by passing a unique label to each axes instance.\n"
     ]
    },
    {
     "name": "stdout",
     "output_type": "stream",
     "text": [
      "The accuracy of the predictions is: 0.93860\n",
      "\n",
      "Confusion Matrix of Truths vs Predicted frequencies\n",
      "\n",
      "Predicted   B   M  All\n",
      "Truths                \n",
      "B          66   2   68\n",
      "M           5  41   46\n",
      "All        71  43  114\n",
      "\n",
      "\n",
      "\n",
      "Weighted Precision: 0.9392257256308145\n",
      "Weighted Recall: 0.9232960918921344\n",
      "Weighted F1 score using weighted P, R: 0.9311927878866848\n",
      "cross validation fold 1 accuracy: 0.9385964912280702\n"
     ]
    },
    {
     "name": "stderr",
     "output_type": "stream",
     "text": [
      "C:\\ProgramData\\Anaconda3\\lib\\site-packages\\ipykernel_launcher.py:86: MatplotlibDeprecationWarning: Adding an axes using the same arguments as a previous axes currently reuses the earlier instance.  In a future version, a new instance will always be created and returned.  Meanwhile, this warning can be suppressed, and the future behavior ensured, by passing a unique label to each axes instance.\n"
     ]
    },
    {
     "name": "stdout",
     "output_type": "stream",
     "text": [
      "The accuracy of the predictions is: 0.93860\n",
      "\n",
      "Confusion Matrix of Truths vs Predicted frequencies\n",
      "\n",
      "Predicted   B   M  All\n",
      "Truths                \n",
      "B          59   1   60\n",
      "M           6  48   54\n",
      "All        65  49  114\n",
      "\n",
      "\n",
      "\n",
      "Weighted Precision: 0.9417499793439642\n",
      "Weighted Recall: 0.933625730994152\n",
      "Weighted F1 score using weighted P, R: 0.9376702577855349\n",
      "cross validation fold 2 accuracy: 0.9385964912280702\n"
     ]
    },
    {
     "name": "stderr",
     "output_type": "stream",
     "text": [
      "C:\\ProgramData\\Anaconda3\\lib\\site-packages\\ipykernel_launcher.py:86: MatplotlibDeprecationWarning: Adding an axes using the same arguments as a previous axes currently reuses the earlier instance.  In a future version, a new instance will always be created and returned.  Meanwhile, this warning can be suppressed, and the future behavior ensured, by passing a unique label to each axes instance.\n"
     ]
    },
    {
     "name": "stdout",
     "output_type": "stream",
     "text": [
      "The accuracy of the predictions is: 0.98230\n",
      "\n",
      "Confusion Matrix of Truths vs Predicted frequencies\n",
      "\n",
      "Predicted   B   M  All\n",
      "Truths                \n",
      "B          78   1   79\n",
      "M           1  33   34\n",
      "All        79  34  113\n",
      "\n",
      "\n",
      "\n",
      "Weighted Precision: 0.9823008849557522\n",
      "Weighted Recall: 0.9756291224902642\n",
      "Weighted F1 score using weighted P, R: 0.9789536365101287\n",
      "cross validation fold 3 accuracy: 0.9823008849557522\n"
     ]
    },
    {
     "name": "stderr",
     "output_type": "stream",
     "text": [
      "C:\\ProgramData\\Anaconda3\\lib\\site-packages\\ipykernel_launcher.py:86: MatplotlibDeprecationWarning: Adding an axes using the same arguments as a previous axes currently reuses the earlier instance.  In a future version, a new instance will always be created and returned.  Meanwhile, this warning can be suppressed, and the future behavior ensured, by passing a unique label to each axes instance.\n"
     ]
    },
    {
     "name": "stdout",
     "output_type": "stream",
     "text": [
      "The accuracy of the predictions is: 0.92035\n",
      "\n",
      "Confusion Matrix of Truths vs Predicted frequencies\n",
      "\n",
      "Predicted   B   M  All\n",
      "Truths                \n",
      "B          69   7   76\n",
      "M           2  35   37\n",
      "All        71  42  113\n",
      "\n",
      "\n",
      "\n",
      "Weighted Precision: 0.9264821970169098\n",
      "Weighted Recall: 0.9334867004871663\n",
      "Weighted F1 score using weighted P, R: 0.9299712595344843\n",
      "cross validation fold 4 accuracy: 0.9203539823008849\n",
      "wine\n"
     ]
    },
    {
     "name": "stderr",
     "output_type": "stream",
     "text": [
      "C:\\ProgramData\\Anaconda3\\lib\\site-packages\\ipykernel_launcher.py:86: MatplotlibDeprecationWarning: Adding an axes using the same arguments as a previous axes currently reuses the earlier instance.  In a future version, a new instance will always be created and returned.  Meanwhile, this warning can be suppressed, and the future behavior ensured, by passing a unique label to each axes instance.\n"
     ]
    },
    {
     "name": "stdout",
     "output_type": "stream",
     "text": [
      "The accuracy of the predictions is: 0.44444\n",
      "\n",
      "Confusion Matrix of Truths vs Predicted frequencies\n",
      "\n",
      "Predicted   2  All\n",
      "Truths            \n",
      "1          10   10\n",
      "2          16   16\n",
      "3          10   10\n",
      "All        36   36\n",
      "\n",
      "\n",
      "\n",
      "Weighted Precision: 0.19753086419753085\n",
      "Weighted Recall: 0.5555555555555556\n",
      "Weighted F1 score using weighted P, R: 0.2914389799635701\n",
      "cross validation fold 0 accuracy: 0.4444444444444444\n"
     ]
    },
    {
     "name": "stderr",
     "output_type": "stream",
     "text": [
      "C:\\ProgramData\\Anaconda3\\lib\\site-packages\\ipykernel_launcher.py:86: MatplotlibDeprecationWarning: Adding an axes using the same arguments as a previous axes currently reuses the earlier instance.  In a future version, a new instance will always be created and returned.  Meanwhile, this warning can be suppressed, and the future behavior ensured, by passing a unique label to each axes instance.\n"
     ]
    },
    {
     "name": "stdout",
     "output_type": "stream",
     "text": [
      "The accuracy of the predictions is: 0.41667\n",
      "\n",
      "Confusion Matrix of Truths vs Predicted frequencies\n",
      "\n",
      "Predicted   2  All\n",
      "Truths            \n",
      "1          13   13\n",
      "2          15   15\n",
      "3           8    8\n",
      "All        36   36\n",
      "\n",
      "\n",
      "\n",
      "Weighted Precision: 0.17361111111111113\n",
      "Weighted Recall: 0.5833333333333333\n",
      "Weighted F1 score using weighted P, R: 0.26758409785932724\n",
      "cross validation fold 1 accuracy: 0.4166666666666667\n"
     ]
    },
    {
     "name": "stderr",
     "output_type": "stream",
     "text": [
      "C:\\ProgramData\\Anaconda3\\lib\\site-packages\\ipykernel_launcher.py:86: MatplotlibDeprecationWarning: Adding an axes using the same arguments as a previous axes currently reuses the earlier instance.  In a future version, a new instance will always be created and returned.  Meanwhile, this warning can be suppressed, and the future behavior ensured, by passing a unique label to each axes instance.\n"
     ]
    },
    {
     "name": "stdout",
     "output_type": "stream",
     "text": [
      "The accuracy of the predictions is: 0.45714\n",
      "\n",
      "Confusion Matrix of Truths vs Predicted frequencies\n",
      "\n",
      "Predicted   2  All\n",
      "Truths            \n",
      "1          11   11\n",
      "2          16   16\n",
      "3           8    8\n",
      "All        35   35\n",
      "\n",
      "\n",
      "\n",
      "Weighted Precision: 0.20897959183673467\n",
      "Weighted Recall: 0.5428571428571428\n",
      "Weighted F1 score using weighted P, R: 0.30178377539941054\n",
      "cross validation fold 2 accuracy: 0.45714285714285713\n"
     ]
    },
    {
     "name": "stderr",
     "output_type": "stream",
     "text": [
      "C:\\ProgramData\\Anaconda3\\lib\\site-packages\\ipykernel_launcher.py:86: MatplotlibDeprecationWarning: Adding an axes using the same arguments as a previous axes currently reuses the earlier instance.  In a future version, a new instance will always be created and returned.  Meanwhile, this warning can be suppressed, and the future behavior ensured, by passing a unique label to each axes instance.\n"
     ]
    },
    {
     "name": "stdout",
     "output_type": "stream",
     "text": [
      "The accuracy of the predictions is: 0.40000\n",
      "\n",
      "Confusion Matrix of Truths vs Predicted frequencies\n",
      "\n",
      "Predicted   2  All\n",
      "Truths            \n",
      "1           7    7\n",
      "2          14   14\n",
      "3          14   14\n",
      "All        35   35\n",
      "\n",
      "\n",
      "\n",
      "Weighted Precision: 0.16000000000000003\n",
      "Weighted Recall: 0.6000000000000001\n",
      "Weighted F1 score using weighted P, R: 0.2526315789473685\n",
      "cross validation fold 3 accuracy: 0.4\n"
     ]
    },
    {
     "name": "stderr",
     "output_type": "stream",
     "text": [
      "C:\\ProgramData\\Anaconda3\\lib\\site-packages\\ipykernel_launcher.py:86: MatplotlibDeprecationWarning: Adding an axes using the same arguments as a previous axes currently reuses the earlier instance.  In a future version, a new instance will always be created and returned.  Meanwhile, this warning can be suppressed, and the future behavior ensured, by passing a unique label to each axes instance.\n"
     ]
    },
    {
     "name": "stdout",
     "output_type": "stream",
     "text": [
      "The accuracy of the predictions is: 0.28571\n",
      "\n",
      "Confusion Matrix of Truths vs Predicted frequencies\n",
      "\n",
      "Predicted   2  All\n",
      "Truths            \n",
      "1          17   17\n",
      "2          10   10\n",
      "3           8    8\n",
      "All        35   35\n",
      "\n",
      "\n",
      "\n",
      "Weighted Precision: 0.08163265306122448\n",
      "Weighted Recall: 0.7142857142857143\n",
      "Weighted F1 score using weighted P, R: 0.14652014652014653\n",
      "cross validation fold 4 accuracy: 0.2857142857142857\n"
     ]
    },
    {
     "name": "stderr",
     "output_type": "stream",
     "text": [
      "C:\\ProgramData\\Anaconda3\\lib\\site-packages\\ipykernel_launcher.py:86: MatplotlibDeprecationWarning: Adding an axes using the same arguments as a previous axes currently reuses the earlier instance.  In a future version, a new instance will always be created and returned.  Meanwhile, this warning can be suppressed, and the future behavior ensured, by passing a unique label to each axes instance.\n"
     ]
    },
    {
     "name": "stdout",
     "output_type": "stream",
     "text": [
      "The accuracy of the predictions is: 0.97222\n",
      "\n",
      "Confusion Matrix of Truths vs Predicted frequencies\n",
      "\n",
      "Predicted   1   2   3  All\n",
      "Truths                    \n",
      "1          10   0   0   10\n",
      "2           1  15   0   16\n",
      "3           0   0  10   10\n",
      "All        11  15  10   36\n",
      "\n",
      "\n",
      "\n",
      "Weighted Precision: 0.9747474747474748\n",
      "Weighted Recall: 0.9893162393162392\n",
      "Weighted F1 score using weighted P, R: 0.9819778239321311\n",
      "cross validation fold 0 accuracy: 0.9722222222222222\n"
     ]
    },
    {
     "name": "stderr",
     "output_type": "stream",
     "text": [
      "C:\\ProgramData\\Anaconda3\\lib\\site-packages\\ipykernel_launcher.py:86: MatplotlibDeprecationWarning: Adding an axes using the same arguments as a previous axes currently reuses the earlier instance.  In a future version, a new instance will always be created and returned.  Meanwhile, this warning can be suppressed, and the future behavior ensured, by passing a unique label to each axes instance.\n"
     ]
    },
    {
     "name": "stdout",
     "output_type": "stream",
     "text": [
      "The accuracy of the predictions is: 1.00000\n",
      "\n",
      "Confusion Matrix of Truths vs Predicted frequencies\n",
      "\n",
      "Predicted   1   2  3  All\n",
      "Truths                   \n",
      "1          13   0  0   13\n",
      "2           0  15  0   15\n",
      "3           0   0  8    8\n",
      "All        13  15  8   36\n",
      "\n",
      "\n",
      "\n",
      "Weighted Precision: 1.0\n",
      "Weighted Recall: 1.0\n",
      "Weighted F1 score using weighted P, R: 1.0\n",
      "cross validation fold 1 accuracy: 1.0\n"
     ]
    },
    {
     "name": "stderr",
     "output_type": "stream",
     "text": [
      "C:\\ProgramData\\Anaconda3\\lib\\site-packages\\ipykernel_launcher.py:86: MatplotlibDeprecationWarning: Adding an axes using the same arguments as a previous axes currently reuses the earlier instance.  In a future version, a new instance will always be created and returned.  Meanwhile, this warning can be suppressed, and the future behavior ensured, by passing a unique label to each axes instance.\n"
     ]
    },
    {
     "name": "stdout",
     "output_type": "stream",
     "text": [
      "The accuracy of the predictions is: 0.97143\n",
      "\n",
      "Confusion Matrix of Truths vs Predicted frequencies\n",
      "\n",
      "Predicted   1   2  3  All\n",
      "Truths                   \n",
      "1          11   0  0   11\n",
      "2           0  15  1   16\n",
      "3           0   0  8    8\n",
      "All        11  15  9   35\n",
      "\n",
      "\n",
      "\n",
      "Weighted Precision: 0.9746031746031745\n",
      "Weighted Recall: 0.9915343915343915\n",
      "Weighted F1 score using weighted P, R: 0.9829958822423838\n",
      "cross validation fold 2 accuracy: 0.9714285714285714\n"
     ]
    },
    {
     "name": "stderr",
     "output_type": "stream",
     "text": [
      "C:\\ProgramData\\Anaconda3\\lib\\site-packages\\ipykernel_launcher.py:86: MatplotlibDeprecationWarning: Adding an axes using the same arguments as a previous axes currently reuses the earlier instance.  In a future version, a new instance will always be created and returned.  Meanwhile, this warning can be suppressed, and the future behavior ensured, by passing a unique label to each axes instance.\n"
     ]
    },
    {
     "name": "stdout",
     "output_type": "stream",
     "text": [
      "The accuracy of the predictions is: 0.94286\n",
      "\n",
      "Confusion Matrix of Truths vs Predicted frequencies\n",
      "\n",
      "Predicted  1   2   3  All\n",
      "Truths                   \n",
      "1          6   1   0    7\n",
      "2          0  13   1   14\n",
      "3          0   0  14   14\n",
      "All        6  14  15   35\n",
      "\n",
      "\n",
      "\n",
      "Weighted Precision: 0.9447619047619047\n",
      "Weighted Recall: 0.9619047619047618\n",
      "Weighted F1 score using weighted P, R: 0.9532562675419818\n",
      "cross validation fold 3 accuracy: 0.9428571428571428\n"
     ]
    },
    {
     "name": "stderr",
     "output_type": "stream",
     "text": [
      "C:\\ProgramData\\Anaconda3\\lib\\site-packages\\ipykernel_launcher.py:86: MatplotlibDeprecationWarning: Adding an axes using the same arguments as a previous axes currently reuses the earlier instance.  In a future version, a new instance will always be created and returned.  Meanwhile, this warning can be suppressed, and the future behavior ensured, by passing a unique label to each axes instance.\n"
     ]
    },
    {
     "name": "stdout",
     "output_type": "stream",
     "text": [
      "The accuracy of the predictions is: 1.00000\n",
      "\n",
      "Confusion Matrix of Truths vs Predicted frequencies\n",
      "\n",
      "Predicted   1   2  3  All\n",
      "Truths                   \n",
      "1          17   0  0   17\n",
      "2           0  10  0   10\n",
      "3           0   0  8    8\n",
      "All        17  10  8   35\n",
      "\n",
      "\n",
      "\n",
      "Weighted Precision: 0.9999999999999999\n",
      "Weighted Recall: 0.9999999999999999\n",
      "Weighted F1 score using weighted P, R: 0.9999999999999999\n",
      "cross validation fold 4 accuracy: 1.0\n"
     ]
    },
    {
     "name": "stderr",
     "output_type": "stream",
     "text": [
      "C:\\ProgramData\\Anaconda3\\lib\\site-packages\\ipykernel_launcher.py:86: MatplotlibDeprecationWarning: Adding an axes using the same arguments as a previous axes currently reuses the earlier instance.  In a future version, a new instance will always be created and returned.  Meanwhile, this warning can be suppressed, and the future behavior ensured, by passing a unique label to each axes instance.\n"
     ]
    },
    {
     "data": {
      "image/png": "[encoded data removed]",
      "text/plain": [
       "<Figure size 720x576 with 21 Axes>"
      ]
     },
     "metadata": {
      "needs_background": "light"
     },
     "output_type": "display_data"
    },
    {
     "data": {
      "text/plain": [
       "<Figure size 720x576 with 0 Axes>"
      ]
     },
     "metadata": {},
     "output_type": "display_data"
    },
    {
     "data": {
      "text/plain": [
       "<Figure size 720x576 with 0 Axes>"
      ]
     },
     "metadata": {},
     "output_type": "display_data"
    },
    {
     "data": {
      "text/plain": [
       "<Figure size 720x576 with 0 Axes>"
      ]
     },
     "metadata": {},
     "output_type": "display_data"
    },
    {
     "data": {
      "text/plain": [
       "<Figure size 720x576 with 0 Axes>"
      ]
     },
     "metadata": {},
     "output_type": "display_data"
    },
    {
     "data": {
      "text/plain": [
       "<Figure size 720x576 with 0 Axes>"
      ]
     },
     "metadata": {},
     "output_type": "display_data"
    },
    {
     "data": {
      "text/plain": [
       "<Figure size 720x576 with 0 Axes>"
      ]
     },
     "metadata": {},
     "output_type": "display_data"
    },
    {
     "data": {
      "text/plain": [
       "<Figure size 720x576 with 0 Axes>"
      ]
     },
     "metadata": {},
     "output_type": "display_data"
    },
    {
     "data": {
      "text/plain": [
       "<Figure size 720x576 with 0 Axes>"
      ]
     },
     "metadata": {},
     "output_type": "display_data"
    },
    {
     "data": {
      "text/plain": [
       "<Figure size 720x576 with 0 Axes>"
      ]
     },
     "metadata": {},
     "output_type": "display_data"
    },
    {
     "data": {
      "text/plain": [
       "<Figure size 720x576 with 0 Axes>"
      ]
     },
     "metadata": {},
     "output_type": "display_data"
    },
    {
     "data": {
      "text/plain": [
       "<Figure size 720x576 with 0 Axes>"
      ]
     },
     "metadata": {},
     "output_type": "display_data"
    },
    {
     "data": {
      "text/plain": [
       "<Figure size 720x576 with 0 Axes>"
      ]
     },
     "metadata": {},
     "output_type": "display_data"
    },
    {
     "data": {
      "text/plain": [
       "<Figure size 720x576 with 0 Axes>"
      ]
     },
     "metadata": {},
     "output_type": "display_data"
    },
    {
     "data": {
      "text/plain": [
       "<Figure size 720x576 with 0 Axes>"
      ]
     },
     "metadata": {},
     "output_type": "display_data"
    },
    {
     "data": {
      "text/plain": [
       "<Figure size 720x576 with 0 Axes>"
      ]
     },
     "metadata": {},
     "output_type": "display_data"
    },
    {
     "data": {
      "text/plain": [
       "<Figure size 720x576 with 0 Axes>"
      ]
     },
     "metadata": {},
     "output_type": "display_data"
    },
    {
     "data": {
      "text/plain": [
       "<Figure size 720x576 with 0 Axes>"
      ]
     },
     "metadata": {},
     "output_type": "display_data"
    },
    {
     "data": {
      "text/plain": [
       "<Figure size 720x576 with 0 Axes>"
      ]
     },
     "metadata": {},
     "output_type": "display_data"
    },
    {
     "data": {
      "text/plain": [
       "<Figure size 720x576 with 0 Axes>"
      ]
     },
     "metadata": {},
     "output_type": "display_data"
    }
   ],
   "source": [
    "nominal_files = [\"breast-cancer-wisconsin\", \"mushroom\", \"lymphography\"]\n",
    "numeric_files = [\"wdbc\", \"wine\"]\n",
    "ordinal_files = [\"car\", \"nursery\", \"somerville\"]\n",
    "mixed_files = [\"adult\", \"bank\", \"university\"]\n",
    "\n",
    "metrics_df_list = []\n",
    "\n",
    "for filename in numeric_files:\n",
    "    \n",
    "    print(filename)\n",
    "    \n",
    "    # read in data\n",
    "    df = read_data(filename)\n",
    "\n",
    "    # preprocess data\n",
    "    df = preprocess(df, filename)\n",
    "\n",
    "    df = df.iloc[1:]\n",
    "    \n",
    "    # discretise df\n",
    "    df2 = df.copy()\n",
    "    df2 = discretise(df2)\n",
    "    \n",
    "    metrics = cross_validation(df, 5)\n",
    "    metrics2 = cross_validation(df2, 5)\n",
    "\n",
    "    metrics_df = pd.DataFrame(data = {\"filename\": [filename], \"accuracy\": [metrics], \"accuracy_discretised\": [metrics2]})\n",
    "    \n",
    "    metrics_df_list.append(metrics_df)\n",
    "    \n",
    "metrics_df = pd.concat(metrics_df_list)"
   ]
  },
  {
   "cell_type": "code",
   "execution_count": 23,
   "metadata": {},
   "outputs": [
    {
     "data": {
      "text/html": [
       "<div>\n",
       "<style scoped>\n",
       "    .dataframe tbody tr th:only-of-type {\n",
       "        vertical-align: middle;\n",
       "    }\n",
       "\n",
       "    .dataframe tbody tr th {\n",
       "        vertical-align: top;\n",
       "    }\n",
       "\n",
       "    .dataframe thead th {\n",
       "        text-align: right;\n",
       "    }\n",
       "</style>\n",
       "<table border=\"1\" class=\"dataframe\">\n",
       "  <thead>\n",
       "    <tr style=\"text-align: right;\">\n",
       "      <th></th>\n",
       "      <th>filename</th>\n",
       "      <th>accuracy</th>\n",
       "      <th>accuracy_discretised</th>\n",
       "    </tr>\n",
       "  </thead>\n",
       "  <tbody>\n",
       "    <tr>\n",
       "      <th>0</th>\n",
       "      <td>wdbc</td>\n",
       "      <td>0.628722</td>\n",
       "      <td>0.941934</td>\n",
       "    </tr>\n",
       "    <tr>\n",
       "      <th>0</th>\n",
       "      <td>wine</td>\n",
       "      <td>0.400794</td>\n",
       "      <td>0.977302</td>\n",
       "    </tr>\n",
       "  </tbody>\n",
       "</table>\n",
       "</div>"
      ],
      "text/plain": [
       "  filename  accuracy  accuracy_discretised\n",
       "0     wdbc  0.628722              0.941934\n",
       "0     wine  0.400794              0.977302"
      ]
     },
     "execution_count": 23,
     "metadata": {},
     "output_type": "execute_result"
    }
   ],
   "source": [
    "metrics_df"
   ]
  },
  {
   "cell_type": "code",
   "execution_count": null,
   "metadata": {},
   "outputs": [],
   "source": []
  },
  {
   "cell_type": "code",
   "execution_count": null,
   "metadata": {},
   "outputs": [],
   "source": []
  },
  {
   "cell_type": "code",
   "execution_count": null,
   "metadata": {},
   "outputs": [],
   "source": []
  },
  {
   "cell_type": "code",
   "execution_count": null,
   "metadata": {},
   "outputs": [],
   "source": []
  },
  {
   "cell_type": "code",
   "execution_count": null,
   "metadata": {},
   "outputs": [],
   "source": []
  },
  {
   "cell_type": "code",
   "execution_count": null,
   "metadata": {},
   "outputs": [],
   "source": []
  }
 ],
 "metadata": {
  "kernelspec": {
   "display_name": "Python 3",
   "language": "python",
   "name": "python3"
  },
  "language_info": {
   "codemirror_mode": {
    "name": "ipython",
    "version": 3
   },
   "file_extension": ".py",
   "mimetype": "text/x-python",
   "name": "python",
   "nbconvert_exporter": "python",
   "pygments_lexer": "ipython3",
   "version": "3.7.4"
  }
 },
 "nbformat": 4,
 "nbformat_minor": 4
}
