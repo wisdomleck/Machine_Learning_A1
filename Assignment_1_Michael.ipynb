{
 "cells": [
  {
   "cell_type": "markdown",
   "metadata": {},
   "source": [
    "\n",
    "### The University of Melbourne, School of Computing and Information Systems\n",
    "# COMP30027 Machine Learning, 2020 Semester 1\n",
    "\n",
    "## Assignment 1: Naive Bayes Classifiers\n",
    "\n",
    "###### Submission deadline: 7 pm, Monday 20 Apr 2020"
   ]
  },
  {
   "cell_type": "markdown",
   "metadata": {},
   "source": [
    "**Student Name(s):**    `Alec Yu, Michael Jaworski`\n",
    "\n",
    "**Student ID(s):**     `993433, 833751`\n"
   ]
  },
  {
   "cell_type": "markdown",
   "metadata": {},
   "source": [
    "This iPython notebook is a template which you will use for your Assignment 1 submission.\n",
    "\n",
    "Marking will be applied on the four functions that are defined in this notebook, and to your responses to the questions at the end of this notebook (Submitted in a separate PDF file).\n",
    "\n",
    "**NOTE: YOU SHOULD ADD YOUR RESULTS, DIAGRAMS AND IMAGES FROM YOUR OBSERVATIONS IN THIS FILE TO YOUR REPORT (the PDF file).**\n",
    "\n",
    "You may change the prototypes of these functions, and you may write other functions, according to your requirements. We would appreciate it if the required functions were prominent/easy to find.\n",
    "\n",
    "**Adding proper comments to your code is MANDATORY. **"
   ]
  },
  {
   "cell_type": "code",
   "execution_count": 378,
   "metadata": {},
   "outputs": [],
   "source": [
    "import os\n",
    "import pandas as pd\n",
    "import numpy as np\n",
    "# count attribute values\n",
    "from collections import Counter\n",
    "from math import sqrt, e, pi\n",
    "from random import sample\n",
    "import matplotlib.pyplot as plt"
   ]
  },
  {
   "cell_type": "code",
   "execution_count": 495,
   "metadata": {},
   "outputs": [],
   "source": [
    "def get_filenames(location: str):\n",
    "    \n",
    "    # returns filenames from datasets folder location\n",
    "    \n",
    "    files = os.listdir(location)\n",
    "    \n",
    "    return [filename.replace(\".data\", \"\") for filename in files if \".data\" in filename]\n",
    "    \n",
    "\n",
    "def read_data(filename: str):  \n",
    "    \n",
    "    # reads the filename.data data file and the filename.h header file and return a dataframe \n",
    "    \n",
    "    df = pd.read_csv(f\"datasets/{filename}.data\", header=None)\n",
    "    header = open(f\"datasets/{filename}.h\", \"r\").read().split(\",\")\n",
    "    df.columns = header\n",
    "    \n",
    "    return df\n",
    "\n",
    "def get_dtypes(filename: str):\n",
    "    \n",
    "    dtypes = {}\n",
    "    \n",
    "    attributes = open(\"datasets/university.dtypes.txt\").read().split(\"\\n\")\n",
    "    \n",
    "    for attribute in attributes:\n",
    "        name = attribute.split(\": \")[0]\n",
    "        dtype = attribute.split(\": \")[1]\n",
    "        dtypes[name] = dtype\n",
    "    \n",
    "    return dtypes\n",
    "\n",
    "def replace_all(df, d):\n",
    "    \n",
    "    # replace multiple strings (i.e. '?' and 'unknown' with np.nan)\n",
    "    \n",
    "    for k, v in d.items():\n",
    "        df = df.replace(k, v)\n",
    "    \n",
    "    return df"
   ]
  },
  {
   "cell_type": "code",
   "execution_count": 380,
   "metadata": {},
   "outputs": [
    {
     "data": {
      "text/plain": [
       "['adult',\n",
       " 'bank',\n",
       " 'breast-cancer-wisconsin',\n",
       " 'car',\n",
       " 'lymphography',\n",
       " 'mushroom',\n",
       " 'nursery',\n",
       " 'somerville',\n",
       " 'trainingtest',\n",
       " 'university',\n",
       " 'wdbc',\n",
       " 'wine']"
      ]
     },
     "execution_count": 380,
     "metadata": {},
     "output_type": "execute_result"
    }
   ],
   "source": [
    "location = \"datasets\"\n",
    "filenames = get_filenames(\"datasets\")\n",
    "filenames"
   ]
  },
  {
   "cell_type": "code",
   "execution_count": 463,
   "metadata": {},
   "outputs": [
    {
     "name": "stdout",
     "output_type": "stream",
     "text": [
      "   age         workclass  fnlwgt  education  education-num  \\\n",
      "0   39         State-gov   77516  Bachelors             13   \n",
      "1   50  Self-emp-not-inc   83311  Bachelors             13   \n",
      "2   38           Private  215646    HS-grad              9   \n",
      "3   53           Private  234721       11th              7   \n",
      "4   28           Private  338409  Bachelors             13   \n",
      "\n",
      "       marital-status         occupation   relationship   race     sex  \\\n",
      "0       Never-married       Adm-clerical  Not-in-family  White    Male   \n",
      "1  Married-civ-spouse    Exec-managerial        Husband  White    Male   \n",
      "2            Divorced  Handlers-cleaners  Not-in-family  White    Male   \n",
      "3  Married-civ-spouse  Handlers-cleaners        Husband  Black    Male   \n",
      "4  Married-civ-spouse     Prof-specialty           Wife  Black  Female   \n",
      "\n",
      "   capital-gain  capital-loss  hours-per-week native-country  CLASS  \n",
      "0          2174             0              40  United-States  <=50K  \n",
      "1             0             0              13  United-States  <=50K  \n",
      "2             0             0              40  United-States  <=50K  \n",
      "3             0             0              40  United-States  <=50K  \n",
      "4             0             0              40           Cuba  <=50K  \n",
      "    1             2        3          4   5     6    7    8        9   10  11  \\\n",
      "0  58    management  married   tertiary  no  2143  yes   no  unknown  261   1   \n",
      "1  44    technician   single  secondary  no    29  yes   no  unknown  151   1   \n",
      "2  33  entrepreneur  married  secondary  no     2  yes  yes  unknown   76   1   \n",
      "3  47   blue-collar  married    unknown  no  1506  yes   no  unknown   92   1   \n",
      "4  33       unknown   single    unknown  no     1   no   no  unknown  198   1   \n",
      "\n",
      "   12  13       14 CLASS  \n",
      "0  -1   0  unknown    no  \n",
      "1  -1   0  unknown    no  \n",
      "2  -1   0  unknown    no  \n",
      "3  -1   0  unknown    no  \n",
      "4  -1   0  unknown    no  \n",
      "   sample-code-number  clump-thickness  uniformity-of-cell-size  \\\n",
      "0             1000025                5                        1   \n",
      "1             1002945                5                        4   \n",
      "2             1015425                3                        1   \n",
      "3             1016277                6                        8   \n",
      "4             1017023                4                        1   \n",
      "\n",
      "   uniformity-of-cell-shape  marginal-adhesion  single-epithelial-cell-size  \\\n",
      "0                         1                  1                            2   \n",
      "1                         4                  5                            7   \n",
      "2                         1                  1                            2   \n",
      "3                         8                  1                            3   \n",
      "4                         1                  3                            2   \n",
      "\n",
      "  bare-nuclei  bland-chromatin  normal-nucleoli  mitoses  CLASS  \n",
      "0           1                3                1        1      2  \n",
      "1          10                3                2        1      2  \n",
      "2           2                3                1        1      2  \n",
      "3           4                3                7        1      2  \n",
      "4           1                3                1        1      2  \n",
      "  buying  maint doors persons lug_boot safety  CLASS\n",
      "0  vhigh  vhigh     2       2    small    low  unacc\n",
      "1  vhigh  vhigh     2       2    small    med  unacc\n",
      "2  vhigh  vhigh     2       2    small   high  unacc\n",
      "3  vhigh  vhigh     2       2      med    low  unacc\n",
      "4  vhigh  vhigh     2       2      med    med  unacc\n",
      "   CLASS  lymphatics  block-of-affere  bl-of-lymph.c  bl-of-lymph.s  by-pass  \\\n",
      "0      3           4                2              1              1        1   \n",
      "1      2           3                2              1              1        2   \n",
      "2      3           3                2              2              2        2   \n",
      "3      3           3                1              1              1        1   \n",
      "4      2           3                1              1              1        1   \n",
      "\n",
      "   extravasates  regeneration-of  early-uptake-in  lym.nodes-dimin  \\\n",
      "0             1                1                2                1   \n",
      "1             2                1                2                1   \n",
      "2             2                2                2                1   \n",
      "3             2                1                2                1   \n",
      "4             1                1                1                1   \n",
      "\n",
      "   lym.nodes-enlar  changes-in-lym  defect-in-node  changes-in-node  \\\n",
      "0                2               2               2                4   \n",
      "1                3               3               2                3   \n",
      "2                4               3               3                4   \n",
      "3                3               3               4                4   \n",
      "4                2               2               4                3   \n",
      "\n",
      "   changes-in-stru  special-forms  dislocation-of  exclusion-of-no  \\\n",
      "0                8              1               1                2   \n",
      "1                4              2               2                2   \n",
      "2                8              3               2                2   \n",
      "3                4              3               1                2   \n",
      "4                5              1               2                2   \n",
      "\n",
      "   no-of-nodes-in  \n",
      "0               2  \n",
      "1               2  \n",
      "2               7  \n",
      "3               6  \n",
      "4               1  \n",
      "  CLASS cap-shape cap-surface cap-color bruises? odor gill-attachment  \\\n",
      "0     p         x           s         n        t    p               f   \n",
      "1     e         x           s         y        t    a               f   \n",
      "2     e         b           s         w        t    l               f   \n",
      "3     p         x           y         w        t    p               f   \n",
      "4     e         x           s         g        f    n               f   \n",
      "\n",
      "  gill-spacing gill-size gill-colour  ... stalk-surface-below-ring  \\\n",
      "0            c         n           k  ...                        s   \n",
      "1            c         b           k  ...                        s   \n",
      "2            c         b           n  ...                        s   \n",
      "3            c         n           n  ...                        s   \n",
      "4            w         b           k  ...                        s   \n",
      "\n",
      "  stalk-color-above-ring stalk-color-below-ring veil-type veil-color  \\\n",
      "0                      w                      w         p          w   \n",
      "1                      w                      w         p          w   \n",
      "2                      w                      w         p          w   \n",
      "3                      w                      w         p          w   \n",
      "4                      w                      w         p          w   \n",
      "\n",
      "  ring-number ring-type spore-print-color population habitat  \n",
      "0           o         p                 k          s       u  \n",
      "1           o         p                 n          n       g  \n",
      "2           o         p                 n          n       m  \n",
      "3           o         p                 k          s       u  \n",
      "4           o         e                 n          a       g  \n",
      "\n",
      "[5 rows x 23 columns]\n",
      "  parents has_nurs      form children     housing     finance         social  \\\n",
      "0   usual   proper  complete        1  convenient  convenient        nonprob   \n",
      "1   usual   proper  complete        1  convenient  convenient        nonprob   \n",
      "2   usual   proper  complete        1  convenient  convenient        nonprob   \n",
      "3   usual   proper  complete        1  convenient  convenient  slightly_prob   \n",
      "4   usual   proper  complete        1  convenient  convenient  slightly_prob   \n",
      "\n",
      "        health      CLASS  \n",
      "0  recommended  recommend  \n",
      "1     priority   priority  \n",
      "2    not_recom  not_recom  \n",
      "3  recommended  recommend  \n",
      "4     priority   priority  \n",
      "   CLASS  X1  X2  X3  X4  X5  X6\n",
      "0      0   3   3   3   4   2   4\n",
      "1      0   3   2   3   5   4   3\n",
      "2      1   5   3   3   3   3   5\n",
      "3      0   5   4   3   3   3   5\n",
      "4      0   5   4   3   3   3   5\n",
      "  headache    sore temperature cough CLASS\n",
      "0   severe    mild        high   yes   flu\n",
      "1       no  severe      normal   yes  cold\n",
      "2     mild    mild      normal   yes   flu\n",
      "3     mild      no      normal    no  cold\n",
      "4   severe  severe      normal   yes   flu\n",
      "     university-name          state                 control  \\\n",
      "0            adelphi        newyork                 private   \n",
      "1      arizona-state        arizona                   state   \n",
      "2     boston-college  massachusetts  private:roman-catholic   \n",
      "3  boston-university  massachusetts                 private   \n",
      "4              brown    rhodeisland                 private   \n",
      "\n",
      "  number-of-students  male:female-ratio  student:faculty-ratio  sat-veral  \\\n",
      "0               5-10               0.30                   15.0        500   \n",
      "1                20+               0.50                   20.0        450   \n",
      "2               5-10               0.40                   20.0        500   \n",
      "3              10-15               0.45                   12.0        550   \n",
      "4                 5-               0.50                   11.0        625   \n",
      "\n",
      "   sat-math expenses  percent-financial-aid number-of-applicants  \\\n",
      "0       475     7-10                     60                  4-7   \n",
      "1       500      4-7                     50                  17+   \n",
      "2       550      10+                     60                10-13   \n",
      "3       575      10+                     60                13-17   \n",
      "4       650      10+                     40                10-13   \n",
      "\n",
      "   percent-admittance  percent-enrolled  CLASS  social  quality-of-life  \\\n",
      "0                  70                40      2       2                2   \n",
      "1                  80                60      3       4                5   \n",
      "2                  50                40      4       5                3   \n",
      "3                  60                40      4       4                3   \n",
      "4                  20                50      5       4                5   \n",
      "\n",
      "  academic-emphasis  \n",
      "0           biology  \n",
      "1         fine-arts  \n",
      "2           english  \n",
      "3      liberal-arts  \n",
      "4     arts:sciences  \n",
      "         ID CLASS  feat1  feat2   feat3   feat4    feat5    feat6   feat7  \\\n",
      "0    842302     M  17.99  10.38  122.80  1001.0  0.11840  0.27760  0.3001   \n",
      "1    842517     M  20.57  17.77  132.90  1326.0  0.08474  0.07864  0.0869   \n",
      "2  84300903     M  19.69  21.25  130.00  1203.0  0.10960  0.15990  0.1974   \n",
      "3  84348301     M  11.42  20.38   77.58   386.1  0.14250  0.28390  0.2414   \n",
      "4  84358402     M  20.29  14.34  135.10  1297.0  0.10030  0.13280  0.1980   \n",
      "\n",
      "     feat8  ...  feat21  feat22  feat23  feat24  feat25  feat26  feat27  \\\n",
      "0  0.14710  ...   25.38   17.33  184.60  2019.0  0.1622  0.6656  0.7119   \n",
      "1  0.07017  ...   24.99   23.41  158.80  1956.0  0.1238  0.1866  0.2416   \n",
      "2  0.12790  ...   23.57   25.53  152.50  1709.0  0.1444  0.4245  0.4504   \n",
      "3  0.10520  ...   14.91   26.50   98.87   567.7  0.2098  0.8663  0.6869   \n",
      "4  0.10430  ...   22.54   16.67  152.20  1575.0  0.1374  0.2050  0.4000   \n",
      "\n",
      "   feat28  feat29   feat30  \n",
      "0  0.2654  0.4601  0.11890  \n",
      "1  0.1860  0.2750  0.08902  \n",
      "2  0.2430  0.3613  0.08758  \n",
      "3  0.2575  0.6638  0.17300  \n",
      "4  0.1625  0.2364  0.07678  \n",
      "\n",
      "[5 rows x 32 columns]\n",
      "   CLASS  feat1  feat2  feat3  feat4  feat5  feat6  feat7  feat8  feat9  \\\n",
      "0      1  14.23   1.71   2.43   15.6    127   2.80   3.06   0.28   2.29   \n",
      "1      1  13.20   1.78   2.14   11.2    100   2.65   2.76   0.26   1.28   \n",
      "2      1  13.16   2.36   2.67   18.6    101   2.80   3.24   0.30   2.81   \n",
      "3      1  14.37   1.95   2.50   16.8    113   3.85   3.49   0.24   2.18   \n",
      "4      1  13.24   2.59   2.87   21.0    118   2.80   2.69   0.39   1.82   \n",
      "\n",
      "   feat10  feat11  feat12  feat13  \n",
      "0    5.64    1.04    3.92    1065  \n",
      "1    4.38    1.05    3.40    1050  \n",
      "2    5.68    1.03    3.17    1185  \n",
      "3    7.80    0.86    3.45    1480  \n",
      "4    4.32    1.04    2.93     735  \n"
     ]
    }
   ],
   "source": [
    "for filename in filenames:\n",
    "    df = read_data(filename)\n",
    "    print(df.head())"
   ]
  },
  {
   "cell_type": "code",
   "execution_count": 411,
   "metadata": {},
   "outputs": [],
   "source": [
    "# # find nan encoding i.e. '?' or 'unknown' \n",
    "\n",
    "# # get filenames\n",
    "# filenames = get_filenames(\"datasets\")\n",
    "\n",
    "# attribute_values_list = []\n",
    "\n",
    "# for filename in filenames:\n",
    "    \n",
    "#     df = read_data(filename)\n",
    "    \n",
    "#     for column in df.columns[:-1]:\n",
    "#         attribute_values = df[column].tolist()\n",
    "#         attribute_values_list.append(attribute_values)\n",
    "        \n",
    "# # sort attribute values by frequency\n",
    "\n",
    "# attribute_values = [value for attribute_values in attribute_values_list for value in attribute_values]\n",
    "# attribute_value_counter = Counter(attribute_values)\n",
    "# attribute_value_counter = {k:v for k, v in sorted(attribute_value_counter.items(), key = lambda item: item[1], reverse = True)}"
   ]
  },
  {
   "cell_type": "markdown",
   "metadata": {},
   "source": [
    "hence, 'unknown' and '?' represent missing values... replace missing values with np.nan."
   ]
  },
  {
   "cell_type": "code",
   "execution_count": 513,
   "metadata": {},
   "outputs": [],
   "source": [
    "# This function should prepare the data by reading it from a file and converting it into a useful format for training and testing\n",
    "\n",
    "def preprocess(df, filename):\n",
    "    \n",
    "    # replace missing values with np.nan\n",
    "    \n",
    "    replacements = {\"unknown\": np.nan, \"?\": np.nan}  \n",
    "    df = replace_all(df, replacements)\n",
    "    \n",
    "    # drop 'na' columns\n",
    "    df = df.dropna(axis = 'columns')\n",
    "    \n",
    "    # rearrange class to [-1] position\n",
    "    CLASS = df.pop(\"CLASS\").astype(\"category\")\n",
    "    df[\"CLASS\"] = CLASS\n",
    "    \n",
    "    # correct dtypes\n",
    "    \n",
    "    nominal_files = [\"breast-cancer-wisconsin\", \"mushroom\", \"lymphography\"]\n",
    "    numeric_files = [\"wdbc\", \"wine\"]\n",
    "    ordinal_files = [\"car\", \"nursery\", \"somerville\"]\n",
    "    mixed_files = [\"adult\", \"bank\", \"university\"]\n",
    "    \n",
    "    if (filename in nominal_files):\n",
    "        datatype = \"nominal\"\n",
    "        for column in df.columns[:-1]:\n",
    "            df[column] = df[column].astype(\"category\")\n",
    "            \n",
    "    elif (filename in ordinal_files):\n",
    "        datatype = \"ordinal\"\n",
    "        for column in df.columns[:-1]:\n",
    "            df[column] = df[column].astype(\"category\")\n",
    "        \n",
    "    elif (filename in numeric_files):\n",
    "        datatype = \"numeric\"\n",
    "        for column in df.columns[:-1]:\n",
    "            df[column] = pd.to_numeric(df[column])\n",
    "        \n",
    "    elif (filename in mixed_files):\n",
    "        datatype = \"mixed\"\n",
    "        dtypes = get_dtypes(filename)\n",
    "        for column in df.columns[:-1]:\n",
    "            try:\n",
    "                dtype = dtypes[column]\n",
    "                if dtype == \"categoric\":\n",
    "                    df[column] = df[column].astype(\"category\")\n",
    "                if dtype == \"numeric\":\n",
    "                    df[column] = pd.to_numeric(df[column])\n",
    "            except:\n",
    "                pass\n",
    "            \n",
    "    return df, datatype"
   ]
  },
  {
   "cell_type": "code",
   "execution_count": 506,
   "metadata": {},
   "outputs": [],
   "source": [
    "# for filename in filenames:\n",
    "#     df = read_data(filename)\n",
    "#     df = preprocess(df, filename)\n",
    "#     print(df.head())"
   ]
  },
  {
   "cell_type": "code",
   "execution_count": null,
   "metadata": {},
   "outputs": [],
   "source": []
  },
  {
   "cell_type": "code",
   "execution_count": null,
   "metadata": {},
   "outputs": [],
   "source": []
  },
  {
   "cell_type": "code",
   "execution_count": 508,
   "metadata": {},
   "outputs": [
    {
     "data": {
      "text/html": [
       "<div>\n",
       "<style scoped>\n",
       "    .dataframe tbody tr th:only-of-type {\n",
       "        vertical-align: middle;\n",
       "    }\n",
       "\n",
       "    .dataframe tbody tr th {\n",
       "        vertical-align: top;\n",
       "    }\n",
       "\n",
       "    .dataframe thead th {\n",
       "        text-align: right;\n",
       "    }\n",
       "</style>\n",
       "<table border=\"1\" class=\"dataframe\">\n",
       "  <thead>\n",
       "    <tr style=\"text-align: right;\">\n",
       "      <th></th>\n",
       "      <th>university-name</th>\n",
       "      <th>state</th>\n",
       "      <th>control</th>\n",
       "      <th>number-of-students</th>\n",
       "      <th>male:female-ratio</th>\n",
       "      <th>student:faculty-ratio</th>\n",
       "      <th>sat-veral</th>\n",
       "      <th>sat-math</th>\n",
       "      <th>expenses</th>\n",
       "      <th>percent-financial-aid</th>\n",
       "      <th>number-of-applicants</th>\n",
       "      <th>percent-admittance</th>\n",
       "      <th>percent-enrolled</th>\n",
       "      <th>social</th>\n",
       "      <th>quality-of-life</th>\n",
       "      <th>academic-emphasis</th>\n",
       "      <th>CLASS</th>\n",
       "    </tr>\n",
       "  </thead>\n",
       "  <tbody>\n",
       "    <tr>\n",
       "      <th>0</th>\n",
       "      <td>adelphi</td>\n",
       "      <td>newyork</td>\n",
       "      <td>private</td>\n",
       "      <td>5-10</td>\n",
       "      <td>0.30</td>\n",
       "      <td>15.0</td>\n",
       "      <td>500</td>\n",
       "      <td>475</td>\n",
       "      <td>7-10</td>\n",
       "      <td>60</td>\n",
       "      <td>4-7</td>\n",
       "      <td>70</td>\n",
       "      <td>40</td>\n",
       "      <td>2</td>\n",
       "      <td>2</td>\n",
       "      <td>biology</td>\n",
       "      <td>2</td>\n",
       "    </tr>\n",
       "    <tr>\n",
       "      <th>1</th>\n",
       "      <td>arizona-state</td>\n",
       "      <td>arizona</td>\n",
       "      <td>state</td>\n",
       "      <td>20+</td>\n",
       "      <td>0.50</td>\n",
       "      <td>20.0</td>\n",
       "      <td>450</td>\n",
       "      <td>500</td>\n",
       "      <td>4-7</td>\n",
       "      <td>50</td>\n",
       "      <td>17+</td>\n",
       "      <td>80</td>\n",
       "      <td>60</td>\n",
       "      <td>4</td>\n",
       "      <td>5</td>\n",
       "      <td>fine-arts</td>\n",
       "      <td>3</td>\n",
       "    </tr>\n",
       "    <tr>\n",
       "      <th>2</th>\n",
       "      <td>boston-college</td>\n",
       "      <td>massachusetts</td>\n",
       "      <td>private:roman-catholic</td>\n",
       "      <td>5-10</td>\n",
       "      <td>0.40</td>\n",
       "      <td>20.0</td>\n",
       "      <td>500</td>\n",
       "      <td>550</td>\n",
       "      <td>10+</td>\n",
       "      <td>60</td>\n",
       "      <td>10-13</td>\n",
       "      <td>50</td>\n",
       "      <td>40</td>\n",
       "      <td>5</td>\n",
       "      <td>3</td>\n",
       "      <td>english</td>\n",
       "      <td>4</td>\n",
       "    </tr>\n",
       "    <tr>\n",
       "      <th>3</th>\n",
       "      <td>boston-university</td>\n",
       "      <td>massachusetts</td>\n",
       "      <td>private</td>\n",
       "      <td>10-15</td>\n",
       "      <td>0.45</td>\n",
       "      <td>12.0</td>\n",
       "      <td>550</td>\n",
       "      <td>575</td>\n",
       "      <td>10+</td>\n",
       "      <td>60</td>\n",
       "      <td>13-17</td>\n",
       "      <td>60</td>\n",
       "      <td>40</td>\n",
       "      <td>4</td>\n",
       "      <td>3</td>\n",
       "      <td>liberal-arts</td>\n",
       "      <td>4</td>\n",
       "    </tr>\n",
       "    <tr>\n",
       "      <th>4</th>\n",
       "      <td>brown</td>\n",
       "      <td>rhodeisland</td>\n",
       "      <td>private</td>\n",
       "      <td>5-</td>\n",
       "      <td>0.50</td>\n",
       "      <td>11.0</td>\n",
       "      <td>625</td>\n",
       "      <td>650</td>\n",
       "      <td>10+</td>\n",
       "      <td>40</td>\n",
       "      <td>10-13</td>\n",
       "      <td>20</td>\n",
       "      <td>50</td>\n",
       "      <td>4</td>\n",
       "      <td>5</td>\n",
       "      <td>arts:sciences</td>\n",
       "      <td>5</td>\n",
       "    </tr>\n",
       "  </tbody>\n",
       "</table>\n",
       "</div>"
      ],
      "text/plain": [
       "     university-name          state                 control  \\\n",
       "0            adelphi        newyork                 private   \n",
       "1      arizona-state        arizona                   state   \n",
       "2     boston-college  massachusetts  private:roman-catholic   \n",
       "3  boston-university  massachusetts                 private   \n",
       "4              brown    rhodeisland                 private   \n",
       "\n",
       "  number-of-students  male:female-ratio  student:faculty-ratio  sat-veral  \\\n",
       "0               5-10               0.30                   15.0        500   \n",
       "1                20+               0.50                   20.0        450   \n",
       "2               5-10               0.40                   20.0        500   \n",
       "3              10-15               0.45                   12.0        550   \n",
       "4                 5-               0.50                   11.0        625   \n",
       "\n",
       "   sat-math expenses  percent-financial-aid number-of-applicants  \\\n",
       "0       475     7-10                     60                  4-7   \n",
       "1       500      4-7                     50                  17+   \n",
       "2       550      10+                     60                10-13   \n",
       "3       575      10+                     60                13-17   \n",
       "4       650      10+                     40                10-13   \n",
       "\n",
       "   percent-admittance  percent-enrolled social quality-of-life  \\\n",
       "0                  70                40      2               2   \n",
       "1                  80                60      4               5   \n",
       "2                  50                40      5               3   \n",
       "3                  60                40      4               3   \n",
       "4                  20                50      4               5   \n",
       "\n",
       "  academic-emphasis CLASS  \n",
       "0           biology     2  \n",
       "1         fine-arts     3  \n",
       "2           english     4  \n",
       "3      liberal-arts     4  \n",
       "4     arts:sciences     5  "
      ]
     },
     "execution_count": 508,
     "metadata": {},
     "output_type": "execute_result"
    }
   ],
   "source": [
    "filename = \"university\"\n",
    "df = read_data(filename)\n",
    "df = preprocess(df, filename)\n",
    "df.head()"
   ]
  },
  {
   "cell_type": "code",
   "execution_count": 433,
   "metadata": {},
   "outputs": [],
   "source": [
    "# k_means discretization function.\n",
    "# optimise_k and get_wss function used to determine optimal k value.\n",
    "\n",
    "def k_means(values, k, old_centroids = None):\n",
    "\n",
    "    # 1. Select k points at random to act as seed centroids\n",
    "    # 2. Assign each instance to the cluster with nearest\n",
    "    # centroid\n",
    "    # 3. Recompute centroids of the clusters using current\n",
    "    # assignment. Centroid = centre or mean point of cluster\n",
    "    # 4. Repeat step 2 until the assignment of instances to\n",
    "    # clusters is stable\n",
    "    \n",
    "    if old_centroids == None:\n",
    "        centroids = sample(list(set(values)), k)\n",
    "    else:\n",
    "        centroids = old_centroids    \n",
    "        \n",
    "    clusters = [None for val in range(len(values))]\n",
    "\n",
    "    for i in range(len(values)):\n",
    "        value = values[i]\n",
    "\n",
    "        # initialize distance to 'infinity' and cluster to 'none'\n",
    "        distance = np.inf\n",
    "        cluster = None\n",
    "\n",
    "        for j in range(len(centroids)):\n",
    "\n",
    "            centroid = centroids[j]\n",
    "\n",
    "            if abs(centroid - value) < distance:\n",
    "\n",
    "                distance = abs(centroid - value)\n",
    "\n",
    "                clusters[i] = j  \n",
    "\n",
    "    new_centroids = [[] for i in range(k)]\n",
    "\n",
    "    for i in range(len(clusters)):\n",
    "        cluster = clusters[i]\n",
    "        new_centroids[cluster].append(values[i])\n",
    "    \n",
    "    new_centroids = list(map(np.mean, new_centroids))\n",
    "\n",
    "    if set(new_centroids) == set(centroids):\n",
    "        return clusters, centroids\n",
    "    else:\n",
    "        clusters, centroids = k_means(values, k, new_centroids)\n",
    "    \n",
    "    return clusters, centroids\n",
    "\n",
    "def get_wss(values, clusters, centroids):\n",
    "    \n",
    "    se = []\n",
    "\n",
    "    for i in range(len(values)):\n",
    "        se.append((centroids[clusters[i]] - values[i]) ** 2)\n",
    "\n",
    "    wss = sum(se)\n",
    "\n",
    "    return wss\n",
    "\n",
    "def optimize_k(values, ks):\n",
    "    \n",
    "    wsss = {}\n",
    "    \n",
    "    for k in ks:\n",
    "        clusters, centroids = k_means(values, k)\n",
    "        wss = get_wss(values, clusters, centroids)\n",
    "        wsss[k] = wss\n",
    "        \n",
    "    return wsss"
   ]
  },
  {
   "cell_type": "markdown",
   "metadata": {},
   "source": [
    "testing optimize_k() function"
   ]
  },
  {
   "cell_type": "code",
   "execution_count": 434,
   "metadata": {},
   "outputs": [],
   "source": [
    "# kss = [3, 5, 10, 50, 100]\n",
    "# wsss = optimize_k(values, kss)\n",
    "# plt.plot(list(wsss.keys()), list(wsss.values()))\n",
    "# plt.title(\"elbow\")"
   ]
  },
  {
   "cell_type": "code",
   "execution_count": 517,
   "metadata": {},
   "outputs": [],
   "source": [
    "def get_categoric_priors(df):\n",
    "    \n",
    "    # returns dataframe of categorical attributes' prior probabilities\n",
    "    \n",
    "    priors = []\n",
    "    \n",
    "    for column in df.columns[:-1]:\n",
    "        \n",
    "        # create \"n\" column to be able to aggregate attributes\n",
    "        \n",
    "        df2 = df.copy()\n",
    "        df2[\"n\"] = 1\n",
    "        \n",
    "        # get count of classes and count of attribute given class\n",
    "        \n",
    "        attributes = df2.groupby([\"CLASS\", column]).agg({\"n\": \"count\"}).reset_index()\n",
    "        classes = attributes.groupby([\"CLASS\"])[\"n\"].sum().reset_index().rename(columns = {\"n\": \"total\"})\n",
    "        prior = pd.merge(attributes, classes, on = \"CLASS\", how = \"left\")\n",
    "        \n",
    "        # create \"attribute\" column to be able to concat prior dataframes\n",
    "        \n",
    "        prior[\"attribute\"] = column\n",
    "        prior = prior.rename(columns = {column: \"attribute_value\"})\n",
    "        \n",
    "        # get P(attribute|class)\n",
    "        \n",
    "        prior[\"p\"] = prior.n / prior.total\n",
    "        prior = prior[[\"CLASS\", \"attribute\", \"attribute_value\", \"n\", \"total\", \"p\"]]\n",
    "        \n",
    "        priors.append(prior)\n",
    "        \n",
    "    priors = pd.concat(priors)\n",
    "        \n",
    "    return priors"
   ]
  },
  {
   "cell_type": "code",
   "execution_count": 542,
   "metadata": {},
   "outputs": [],
   "source": [
    "def get_numeric_statistics(df):\n",
    "    \n",
    "    # returns dataframe of numerical attributes' mean and standard deviation\n",
    "    \n",
    "    numerical_statistics = df.agg([\"mean\", \"std\"]).transpose().reset_index().rename(columns = {\"index\": \"attribute\"})\n",
    "    \n",
    "    return numerical_statistics"
   ]
  },
  {
   "cell_type": "code",
   "execution_count": 511,
   "metadata": {},
   "outputs": [],
   "source": [
    "def get_class_priors(df):\n",
    "    \n",
    "    # returns the probability of each class occuring\n",
    "    \n",
    "    prior = df.groupby([\"CLASS\"]).size().reset_index().rename(columns = {0: \"n\"})\n",
    "    prior[\"total\"] = sum(prior[\"n\"])\n",
    "    \n",
    "    # get P(class)\n",
    "    \n",
    "    prior[\"p\"] = prior.n / prior.total\n",
    "    \n",
    "    return prior"
   ]
  },
  {
   "cell_type": "code",
   "execution_count": 512,
   "metadata": {},
   "outputs": [],
   "source": [
    "def gaussian_pdf(x, mean, std):\n",
    "    \n",
    "    # gaussian function used to determine P(X = x|C) \n",
    "    \n",
    "    return (1/(std * sqrt(2 * pi))) * e ** (-1/2 * ((x - mean)/std) ** 2)"
   ]
  },
  {
   "cell_type": "code",
   "execution_count": 439,
   "metadata": {},
   "outputs": [],
   "source": [
    "class_priors = get_class_priors(df)"
   ]
  },
  {
   "cell_type": "code",
   "execution_count": 537,
   "metadata": {},
   "outputs": [],
   "source": [
    "class train_model:\n",
    "    def __init__(self, class_priors, categoric_priors, numeric_statistics):\n",
    "        self.class_priors = class_priors\n",
    "        self.categoric_priors = categoric_priors\n",
    "        self.numeric_statistics = numeric_statistics\n",
    "    \n",
    "    def gaussian_pdf(x, mean, std):\n",
    "        # gaussian function used to determine P(X = x|C) \n",
    "        return (1/(std * sqrt(2 * pi))) * e ** (-1/2 * ((x - mean)/std) ** 2)\n",
    "    \n",
    "    def predict_nb(df):\n",
    "        pass\n",
    "    def predict_gnb(df):\n",
    "        pass"
   ]
  },
  {
   "cell_type": "code",
   "execution_count": 538,
   "metadata": {},
   "outputs": [
    {
     "data": {
      "text/html": [
       "<div>\n",
       "<style scoped>\n",
       "    .dataframe tbody tr th:only-of-type {\n",
       "        vertical-align: middle;\n",
       "    }\n",
       "\n",
       "    .dataframe tbody tr th {\n",
       "        vertical-align: top;\n",
       "    }\n",
       "\n",
       "    .dataframe thead th {\n",
       "        text-align: right;\n",
       "    }\n",
       "</style>\n",
       "<table border=\"1\" class=\"dataframe\">\n",
       "  <thead>\n",
       "    <tr style=\"text-align: right;\">\n",
       "      <th></th>\n",
       "      <th>CLASS</th>\n",
       "      <th>n</th>\n",
       "      <th>total</th>\n",
       "      <th>p</th>\n",
       "    </tr>\n",
       "  </thead>\n",
       "  <tbody>\n",
       "    <tr>\n",
       "      <th>0</th>\n",
       "      <td>1</td>\n",
       "      <td>6</td>\n",
       "      <td>231</td>\n",
       "      <td>0.025974</td>\n",
       "    </tr>\n",
       "    <tr>\n",
       "      <th>1</th>\n",
       "      <td>2</td>\n",
       "      <td>27</td>\n",
       "      <td>231</td>\n",
       "      <td>0.116883</td>\n",
       "    </tr>\n",
       "    <tr>\n",
       "      <th>2</th>\n",
       "      <td>3</td>\n",
       "      <td>84</td>\n",
       "      <td>231</td>\n",
       "      <td>0.363636</td>\n",
       "    </tr>\n",
       "    <tr>\n",
       "      <th>3</th>\n",
       "      <td>4</td>\n",
       "      <td>82</td>\n",
       "      <td>231</td>\n",
       "      <td>0.354978</td>\n",
       "    </tr>\n",
       "    <tr>\n",
       "      <th>4</th>\n",
       "      <td>5</td>\n",
       "      <td>32</td>\n",
       "      <td>231</td>\n",
       "      <td>0.138528</td>\n",
       "    </tr>\n",
       "  </tbody>\n",
       "</table>\n",
       "</div>"
      ],
      "text/plain": [
       "  CLASS   n  total         p\n",
       "0     1   6    231  0.025974\n",
       "1     2  27    231  0.116883\n",
       "2     3  84    231  0.363636\n",
       "3     4  82    231  0.354978\n",
       "4     5  32    231  0.138528"
      ]
     },
     "execution_count": 538,
     "metadata": {},
     "output_type": "execute_result"
    }
   ],
   "source": [
    "get_class_priors(df)"
   ]
  },
  {
   "cell_type": "code",
   "execution_count": 539,
   "metadata": {},
   "outputs": [],
   "source": [
    "class_priors = get_class_priors(df)\n",
    "categoric_priors = get_categoric_priors(df)"
   ]
  },
  {
   "cell_type": "code",
   "execution_count": 540,
   "metadata": {},
   "outputs": [],
   "source": [
    "nb = model(class_priors, categoric_priors, None)"
   ]
  },
  {
   "cell_type": "code",
   "execution_count": 541,
   "metadata": {},
   "outputs": [],
   "source": [
    "nb.numeric_statistics"
   ]
  },
  {
   "cell_type": "code",
   "execution_count": 448,
   "metadata": {},
   "outputs": [],
   "source": [
    "# This function should calculat prior probabilities and likelihoods from the training data and using\n",
    "# them to build a naive Bayes model\n",
    "\n",
    "def train(df, datatype):\n",
    "    \n",
    "    class train_model:\n",
    "        def __init__(self, class_priors, categoric_priors, numeric_statistics):\n",
    "            self.class_priors = class_priors\n",
    "            self.categoric_priors = categoric_priors\n",
    "            self.numeric_statistics = numeric_statistics\n",
    "\n",
    "        def gaussian_pdf(x, mean, std):\n",
    "            # gaussian function used to determine P(X = x|C) \n",
    "            return (1/(std * sqrt(2 * pi))) * e ** (-1/2 * ((x - mean)/std) ** 2)\n",
    "\n",
    "        def predict_nb(df):\n",
    "            pass\n",
    "        def predict_gnb(df):\n",
    "            pass\n",
    "\n",
    "    class_priors = get_class_priors(df)\n",
    "    \n",
    "    if datatype == \"nominal\" or datetype == \"ordinal\":\n",
    "        categoric_priors = get_categoric_priors(df)\n",
    "        model = train_model(class_priors, categoric_priors, None)\n",
    "        return model\n",
    "        \n",
    "    if datatype == \"numeric\":\n",
    "        numeric_statistics = get_numeric_statistics(df)\n",
    "        model = train_model(class_priors, None, numeric_statistics)\n",
    "        return model\n",
    "        \n",
    "    if datatype == \"mixed\":\n",
    "        dtypes = get_dtypes(filename)\n",
    "        for column in df.columns[:-1]:\n",
    "            try:\n",
    "                dtype = dtypes[column]\n",
    "                if dtype == \"categoric\":\n",
    "                    df[column] = df[column].astype(\"category\")\n",
    "                if dtype == \"numeric\":\n",
    "                    df[column] = pd.to_numeric(df[column])\n",
    "            except:\n",
    "                pass\n",
    "    \n",
    "    return attribute_priors, class_priors"
   ]
  },
  {
   "cell_type": "code",
   "execution_count": 553,
   "metadata": {},
   "outputs": [
    {
     "data": {
      "text/plain": [
       "university-name            object\n",
       "state                      object\n",
       "control                    object\n",
       "number-of-students         object\n",
       "male:female-ratio         float64\n",
       "student:faculty-ratio     float64\n",
       "sat-veral                   int64\n",
       "sat-math                    int64\n",
       "expenses                 category\n",
       "percent-financial-aid       int64\n",
       "number-of-applicants     category\n",
       "percent-admittance          int64\n",
       "percent-enrolled            int64\n",
       "social                   category\n",
       "quality-of-life          category\n",
       "academic-emphasis        category\n",
       "CLASS                    category\n",
       "dtype: object"
      ]
     },
     "execution_count": 553,
     "metadata": {},
     "output_type": "execute_result"
    }
   ],
   "source": [
    "df.dtypes"
   ]
  },
  {
   "cell_type": "code",
   "execution_count": 548,
   "metadata": {},
   "outputs": [
    {
     "data": {
      "text/plain": [
       "17"
      ]
     },
     "execution_count": 548,
     "metadata": {},
     "output_type": "execute_result"
    }
   ],
   "source": [
    "len(df.columns)"
   ]
  },
  {
   "cell_type": "code",
   "execution_count": 550,
   "metadata": {},
   "outputs": [
    {
     "data": {
      "text/plain": [
       "7"
      ]
     },
     "execution_count": 550,
     "metadata": {},
     "output_type": "execute_result"
    }
   ],
   "source": [
    "len(df.select_dtypes(\"number\").columns)"
   ]
  },
  {
   "cell_type": "code",
   "execution_count": 551,
   "metadata": {},
   "outputs": [
    {
     "data": {
      "text/plain": [
       "6"
      ]
     },
     "execution_count": 551,
     "metadata": {},
     "output_type": "execute_result"
    }
   ],
   "source": [
    "len(df.select_dtypes(\"category\").columns)"
   ]
  },
  {
   "cell_type": "code",
   "execution_count": null,
   "metadata": {
    "collapsed": true
   },
   "outputs": [],
   "source": [
    "# This function should predict classes for new items in a test dataset (for the purposes of this assignment, you\n",
    "# can re-use the training data as a test set)\n",
    "\n",
    "def predict(df, datatype, attribute_priors, class_priors):\n",
    "    \n",
    "    if datatype == \"categorical\":\n",
    "        attribute_priors = get_categorical_attribute_priors(df)\n",
    "    \n",
    "    if datatype == \"numeric\":\n",
    "        attribute_priors = get_numeric_attribute_priors(df)\n",
    "        \n",
    "    return"
   ]
  },
  {
   "cell_type": "code",
   "execution_count": 396,
   "metadata": {},
   "outputs": [],
   "source": [
    "index, row = list(df2.iterrows())[0]"
   ]
  },
  {
   "cell_type": "code",
   "execution_count": 397,
   "metadata": {},
   "outputs": [
    {
     "data": {
      "text/plain": [
       "age                          39\n",
       "workclass             State-gov\n",
       "fnlwgt                    77516\n",
       "education             Bachelors\n",
       "education-num                13\n",
       "marital-status    Never-married\n",
       "occupation         Adm-clerical\n",
       "relationship      Not-in-family\n",
       "race                      White\n",
       "sex                        Male\n",
       "capital-gain               2174\n",
       "capital-loss                  0\n",
       "hours-per-week               40\n",
       "native-country    United-States\n",
       "Name: 0, dtype: object"
      ]
     },
     "execution_count": 397,
     "metadata": {},
     "output_type": "execute_result"
    }
   ],
   "source": [
    "row"
   ]
  },
  {
   "cell_type": "code",
   "execution_count": 566,
   "metadata": {},
   "outputs": [],
   "source": [
    "CLASSES = class_priors.CLASS.tolist()\n",
    "CLASS = CLASSES[0]"
   ]
  },
  {
   "cell_type": "code",
   "execution_count": 567,
   "metadata": {},
   "outputs": [
    {
     "data": {
      "text/plain": [
       "'<=50K'"
      ]
     },
     "execution_count": 567,
     "metadata": {},
     "output_type": "execute_result"
    }
   ],
   "source": [
    "CLASS"
   ]
  },
  {
   "cell_type": "code",
   "execution_count": 398,
   "metadata": {},
   "outputs": [
    {
     "data": {
      "text/plain": [
       "age                int64\n",
       "workclass         object\n",
       "fnlwgt             int64\n",
       "education         object\n",
       "education-num      int64\n",
       "marital-status    object\n",
       "occupation        object\n",
       "relationship      object\n",
       "race              object\n",
       "sex               object\n",
       "capital-gain       int64\n",
       "capital-loss       int64\n",
       "hours-per-week     int64\n",
       "native-country    object\n",
       "CLASS             object\n",
       "dtype: object"
      ]
     },
     "execution_count": 398,
     "metadata": {},
     "output_type": "execute_result"
    }
   ],
   "source": [
    "df.dtypes"
   ]
  },
  {
   "cell_type": "code",
   "execution_count": 652,
   "metadata": {},
   "outputs": [
    {
     "name": "stdout",
     "output_type": "stream",
     "text": [
      "age 39\n"
     ]
    }
   ],
   "source": [
    "probability = []\n",
    "\n",
    "index = row.index[0]\n",
    "    \n",
    "attribute = index \n",
    "attribute_value = row[index]\n",
    "\n",
    "CLASSES = class_priors.CLASS.tolist()\n",
    "\n",
    "class_ps = {}\n",
    "\n",
    "for CLASS in CLASSES:\n",
    "\n",
    "    attribute_ps = {}\n",
    "    \n",
    "    for index in row.index:\n",
    "\n",
    "        attribute = index \n",
    "        attribute_value = row[index]\n",
    "        \n",
    "        if datatype == \"categorical\":\n",
    "            \n",
    "            attribute_p = attribute_priors.loc[\n",
    "                (attribute_priors[\"CLASS\"] == CLASS) & \\\n",
    "                (attribute_priors[\"attribute\"] == attribute) & \\\n",
    "                (attribute_priors[\"attribute_value\"] == attribute_value)\n",
    "            ]\n",
    "            \n",
    "        if datatype == \"numerical\":\n",
    "            \n",
    "            mean = attribute_prior.loc[attribute_prior[\"attribute\"] == attribute][\"mean\"].values[0]\n",
    "            std = attribute_prior.loc[attribute_prior[\"attribute\"] == attribute][\"std\"].values[0]\n",
    "        \n",
    "        # no classes\n",
    "        \n",
    "        if len(attribute_p) == 0:\n",
    "            attribute_p = 0\n",
    "        else:\n",
    "            attribute_p = attribute_p.p.values[0]\n",
    "\n",
    "        attribute_ps[attribute] = attribute_p\n",
    "    \n",
    "        class_p = class_priors.loc[class_priors[\"CLASS\"] == CLASS].p.values[0]\n",
    "        \n",
    "        pi_attributes_p = 1\n",
    "        for value in attribute_ps.values():\n",
    "            pi_attributes_p *= value\n",
    "        \n",
    "        p = class_p * pi_attributes_p\n",
    "        \n",
    "        class_ps[CLASS] = p"
   ]
  },
  {
   "cell_type": "code",
   "execution_count": 653,
   "metadata": {},
   "outputs": [
    {
     "data": {
      "text/plain": [
       "{'<=50K': 3.2731043372845494e-15, '>50K': 0.0}"
      ]
     },
     "execution_count": 653,
     "metadata": {},
     "output_type": "execute_result"
    }
   ],
   "source": [
    "class_ps"
   ]
  },
  {
   "cell_type": "code",
   "execution_count": 648,
   "metadata": {},
   "outputs": [],
   "source": [
    "attribute_ps = {}\n",
    "    \n",
    "for index in row.index:\n",
    "\n",
    "    attribute = index \n",
    "    attribute_value = row[index]\n",
    "\n",
    "    attribute_p = attribute_priors.loc[\n",
    "        (attribute_priors[\"CLASS\"] == CLASS) & \\\n",
    "        (attribute_priors[\"attribute\"] == attribute) & \\\n",
    "        (attribute_priors[\"attribute_value\"] == attribute_value)\n",
    "    ]\n",
    "    # no classes\n",
    "    if len(attribute_p) == 0:\n",
    "        attribute_p = 0\n",
    "    else:\n",
    "        attribute_p = attribute_p.p.values[0]\n",
    "        \n",
    "    attribute_ps[attribute] = attribute_p"
   ]
  },
  {
   "cell_type": "code",
   "execution_count": 641,
   "metadata": {},
   "outputs": [],
   "source": [
    "attribute_p = attribute_priors.loc[\n",
    "        (attribute_priors[\"CLASS\"] == CLASS) & \\\n",
    "        (attribute_priors[\"attribute\"] == attribute) & \\\n",
    "        (attribute_priors[\"attribute_value\"] == attribute_value)\n",
    "    ]"
   ]
  },
  {
   "cell_type": "code",
   "execution_count": 647,
   "metadata": {},
   "outputs": [
    {
     "ename": "AttributeError",
     "evalue": "'numpy.float64' object has no attribute 'values'",
     "output_type": "error",
     "traceback": [
      "\u001b[1;31m---------------------------------------------------------------------------\u001b[0m",
      "\u001b[1;31mAttributeError\u001b[0m                            Traceback (most recent call last)",
      "\u001b[1;32m<ipython-input-647-acb4d6fb3dab>\u001b[0m in \u001b[0;36m<module>\u001b[1;34m\u001b[0m\n\u001b[1;32m----> 1\u001b[1;33m \u001b[0mattribute_p\u001b[0m\u001b[1;33m.\u001b[0m\u001b[0mvalues\u001b[0m\u001b[1;33m\u001b[0m\u001b[1;33m\u001b[0m\u001b[0m\n\u001b[0m",
      "\u001b[1;31mAttributeError\u001b[0m: 'numpy.float64' object has no attribute 'values'"
     ]
    }
   ],
   "source": [
    "attribute_p.values"
   ]
  },
  {
   "cell_type": "code",
   "execution_count": 638,
   "metadata": {},
   "outputs": [
    {
     "data": {
      "text/plain": [
       "'>50K'"
      ]
     },
     "execution_count": 638,
     "metadata": {},
     "output_type": "execute_result"
    }
   ],
   "source": [
    "CLASS"
   ]
  },
  {
   "cell_type": "code",
   "execution_count": 633,
   "metadata": {},
   "outputs": [
    {
     "data": {
      "text/plain": [
       "77516"
      ]
     },
     "execution_count": 633,
     "metadata": {},
     "output_type": "execute_result"
    }
   ],
   "source": [
    "attribute_value"
   ]
  },
  {
   "cell_type": "code",
   "execution_count": 623,
   "metadata": {},
   "outputs": [
    {
     "data": {
      "text/plain": [
       "{'age': 0.0354546613952302, 'workclass': 0.046143790849673204}"
      ]
     },
     "execution_count": 623,
     "metadata": {},
     "output_type": "execute_result"
    }
   ],
   "source": [
    "attribute_ps"
   ]
  },
  {
   "cell_type": "code",
   "execution_count": 621,
   "metadata": {},
   "outputs": [],
   "source": [
    "pi_attributes_p = 1\n",
    "for value in attribute_ps.values():\n",
    "    pi_attributes_p *= value"
   ]
  },
  {
   "cell_type": "code",
   "execution_count": 619,
   "metadata": {},
   "outputs": [
    {
     "data": {
      "text/plain": [
       "dict_values([array([0.03545466]), array([0.04614379]), array([], dtype=float64)])"
      ]
     },
     "execution_count": 619,
     "metadata": {},
     "output_type": "execute_result"
    }
   ],
   "source": [
    "attribute_ps.values()"
   ]
  },
  {
   "cell_type": "code",
   "execution_count": null,
   "metadata": {},
   "outputs": [],
   "source": []
  },
  {
   "cell_type": "code",
   "execution_count": 614,
   "metadata": {},
   "outputs": [
    {
     "data": {
      "text/plain": [
       "4.311308670158666e-15"
      ]
     },
     "execution_count": 614,
     "metadata": {},
     "output_type": "execute_result"
    }
   ],
   "source": [
    "attribute_p"
   ]
  },
  {
   "cell_type": "code",
   "execution_count": 594,
   "metadata": {},
   "outputs": [],
   "source": [
    "p = attribute_priors.loc[\n",
    "    (attribute_priors[\"CLASS\"] == CLASS) & \\\n",
    "    (attribute_priors[\"attribute\"] == attribute) & \\\n",
    "    (attribute_priors[\"attribute_value\"] == attribute_value)\n",
    "][\"p\"].values[0]"
   ]
  },
  {
   "cell_type": "code",
   "execution_count": 595,
   "metadata": {},
   "outputs": [],
   "source": [
    "z = []\n",
    "z.append(p)"
   ]
  },
  {
   "cell_type": "code",
   "execution_count": 596,
   "metadata": {},
   "outputs": [
    {
     "data": {
      "text/plain": [
       "[0.021763754045307445]"
      ]
     },
     "execution_count": 596,
     "metadata": {},
     "output_type": "execute_result"
    }
   ],
   "source": [
    "z"
   ]
  },
  {
   "cell_type": "code",
   "execution_count": null,
   "metadata": {},
   "outputs": [],
   "source": [
    "def nb(row, attribute_priors, class_priors):\n",
    "    \n",
    "    for column in row.columns()[1]:\n",
    "        \n",
    "    return prediction"
   ]
  },
  {
   "cell_type": "code",
   "execution_count": null,
   "metadata": {
    "collapsed": true
   },
   "outputs": [],
   "source": [
    "# This function should evaliate the prediction performance by comparing your model’s class outputs to ground\n",
    "# truth labels\n",
    "\n",
    "def evaluate():\n",
    "    return"
   ]
  },
  {
   "cell_type": "markdown",
   "metadata": {},
   "source": [
    "## Questions \n",
    "\n",
    "\n",
    "If you are in a group of 1, you will respond to question (1), and **one** other of your choosing (two responses in total).\n",
    "\n",
    "If you are in a group of 2, you will respond to question (1) and question (2), and **two** others of your choosing (four responses in total). \n",
    "\n",
    "A response to a question should take about 100–250 words, and make reference to the data wherever possible.\n",
    "\n",
    "#### NOTE: you may develope codes or functions in respond to the question, but your formal answer should be added to a separate file."
   ]
  },
  {
   "cell_type": "markdown",
   "metadata": {},
   "source": [
    "### Q1\n",
    "Try discretising the numeric attributes in these datasets and treating them as discrete variables in the na¨ıve Bayes classifier. You can use a discretisation method of your choice and group the numeric values into any number of levels (but around 3 to 5 levels would probably be a good starting point). Does discretizing the variables improve classification performance, compared to the Gaussian na¨ıve Bayes approach? Why or why not?"
   ]
  },
  {
   "cell_type": "code",
   "execution_count": null,
   "metadata": {
    "collapsed": true
   },
   "outputs": [],
   "source": []
  },
  {
   "cell_type": "markdown",
   "metadata": {},
   "source": [
    "### Q2\n",
    "Implement a baseline model (e.g., random or 0R) and compare the performance of the na¨ıve Bayes classifier to this baseline on multiple datasets. Discuss why the baseline performance varies across datasets, and to what extent the na¨ıve Bayes classifier improves on the baseline performance."
   ]
  },
  {
   "cell_type": "code",
   "execution_count": null,
   "metadata": {
    "collapsed": true
   },
   "outputs": [],
   "source": []
  },
  {
   "cell_type": "markdown",
   "metadata": {},
   "source": [
    "### Q3\n",
    "Since it’s difficult to model the probabilities of ordinal data, ordinal attributes are often treated as either nominal variables or numeric variables. Compare these strategies on the ordinal datasets provided. Deterimine which approach gives higher classification accuracy and discuss why."
   ]
  },
  {
   "cell_type": "code",
   "execution_count": null,
   "metadata": {
    "collapsed": true
   },
   "outputs": [],
   "source": []
  },
  {
   "cell_type": "markdown",
   "metadata": {},
   "source": [
    "### Q4\n",
    "Evaluating the model on the same data that we use to train the model is considered to be a major mistake in Machine Learning. Implement a hold–out or cross–validation evaluation strategy (you should implement this yourself and do not simply call existing implementations from `scikit-learn`). How does your estimate of effectiveness change, compared to testing on the training data? Explain why. (The result might surprise you!)"
   ]
  },
  {
   "cell_type": "code",
   "execution_count": null,
   "metadata": {
    "collapsed": true
   },
   "outputs": [],
   "source": []
  },
  {
   "cell_type": "markdown",
   "metadata": {},
   "source": [
    "### Q5\n",
    "Implement one of the advanced smoothing regimes (add-k, Good-Turing). Does changing the smoothing regime (or indeed, not smoothing at all) affect the effectiveness of the na¨ıve Bayes classifier? Explain why, or why not."
   ]
  },
  {
   "cell_type": "code",
   "execution_count": null,
   "metadata": {
    "collapsed": true
   },
   "outputs": [],
   "source": []
  },
  {
   "cell_type": "markdown",
   "metadata": {},
   "source": [
    "### Q6\n",
    "The Gaussian na¨ıve Bayes classifier assumes that numeric attributes come from a Gaussian distribution. Is this assumption always true for the numeric attributes in these datasets? Identify some cases where the Gaussian assumption is violated and describe any evidence (or lack thereof) that this has some effect on the NB classifier’s predictions."
   ]
  },
  {
   "cell_type": "code",
   "execution_count": null,
   "metadata": {
    "collapsed": true
   },
   "outputs": [],
   "source": []
  }
 ],
 "metadata": {
  "kernelspec": {
   "display_name": "Python 3",
   "language": "python",
   "name": "python3"
  },
  "language_info": {
   "codemirror_mode": {
    "name": "ipython",
    "version": 3
   },
   "file_extension": ".py",
   "mimetype": "text/x-python",
   "name": "python",
   "nbconvert_exporter": "python",
   "pygments_lexer": "ipython3",
   "version": "3.7.4"
  }
 },
 "nbformat": 4,
 "nbformat_minor": 4
}
